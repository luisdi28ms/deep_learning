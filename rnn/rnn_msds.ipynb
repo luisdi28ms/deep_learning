{
 "cells": [
  {
   "cell_type": "markdown",
   "id": "352b2051",
   "metadata": {},
   "source": [
    "Github repo: https://github.com/luisdi28ms/deep_learning/tree/main/cnn"
   ]
  },
  {
   "cell_type": "markdown",
   "id": "882fc28d",
   "metadata": {
    "papermill": {
     "duration": 0.013275,
     "end_time": "2024-06-17T03:03:24.564223",
     "exception": false,
     "start_time": "2024-06-17T03:03:24.550948",
     "status": "completed"
    },
    "tags": []
   },
   "source": [
    "## Brief description of the problem and data\n",
    "\n",
    "This project is about analyzing a large number of tweets (10,000) and determining based on the context if the tweet is about a real disaster ocurring or not. The problem will be addressed by training a recurrent neural network (rnn), comparing different architectures and applying the best fitted model.\n",
    "\n",
    "* Objective: The score is evaluated as F1. \n",
    "\n",
    "$$ F1=2*\\frac{precision * recall}{precision + recall} $$\n",
    "\n",
    "$$ precision = \\frac{TP}{TP+FP} $$\n",
    "\n",
    "$$ recall = \\frac{TP}{TP+FN} $$\n",
    "    \n",
    "    \n",
    "* Problem Type: Binary Classification\n",
    "* Dataset: A curated list of 10,000 tweets hand classified. Other than the label and tweet text, it has some features like location and keyword.\n",
    "\n",
    "Addison Howard, devrishi, Phil Culliton, Yufeng Guo. (2019). Natural Language Processing with Disaster Tweets. Kaggle. https://kaggle.com/competitions/nlp-getting-started\n",
    "\n",
    "[FRANK MOLLARD](https://www.kaggle.com/frankmollard). (2023). NLP a Gentle Introduction (LSTM, Word2Vec, BERT). Kaggle. https://www.kaggle.com/code/frankmollard/nlp-a-gentle-introduction-lstm-word2vec-bert\n",
    "\n",
    "**Note:** FRANK MOLLARD's notebook was used as guidance to learn about bidirectional LSTM and submiting the output to the kaggle competition. Learn more clicking the link above."
   ]
  },
  {
   "cell_type": "code",
   "execution_count": 1,
   "id": "3cc07c8e",
   "metadata": {
    "_cell_guid": "b1076dfc-b9ad-4769-8c92-a6c4dae69d19",
    "_uuid": "8f2839f25d086af736a60e9eeb907d3b93b6e0e5",
    "execution": {
     "iopub.execute_input": "2024-06-17T03:03:24.592608Z",
     "iopub.status.busy": "2024-06-17T03:03:24.592004Z",
     "iopub.status.idle": "2024-06-17T03:03:44.170591Z",
     "shell.execute_reply": "2024-06-17T03:03:44.168871Z"
    },
    "papermill": {
     "duration": 19.596538,
     "end_time": "2024-06-17T03:03:44.173883",
     "exception": false,
     "start_time": "2024-06-17T03:03:24.577345",
     "status": "completed"
    },
    "tags": []
   },
   "outputs": [
    {
     "name": "stderr",
     "output_type": "stream",
     "text": [
      "2024-06-17 03:03:30.365942: E external/local_xla/xla/stream_executor/cuda/cuda_dnn.cc:9261] Unable to register cuDNN factory: Attempting to register factory for plugin cuDNN when one has already been registered\n",
      "2024-06-17 03:03:30.366170: E external/local_xla/xla/stream_executor/cuda/cuda_fft.cc:607] Unable to register cuFFT factory: Attempting to register factory for plugin cuFFT when one has already been registered\n",
      "2024-06-17 03:03:30.546701: E external/local_xla/xla/stream_executor/cuda/cuda_blas.cc:1515] Unable to register cuBLAS factory: Attempting to register factory for plugin cuBLAS when one has already been registered\n"
     ]
    }
   ],
   "source": [
    "import numpy as np\n",
    "import pandas as pd \n",
    "import os\n",
    "import re\n",
    "import matplotlib.pyplot as plt\n",
    "import seaborn as sns\n",
    "from sklearn.model_selection import train_test_split\n",
    "from sklearn.feature_extraction.text import TfidfVectorizer\n",
    "from tensorflow.keras.models import Sequential\n",
    "from tensorflow.keras.layers import LSTM, Dense, Dropout,Embedding, Bidirectional\n",
    "import tensorflow as tf\n",
    "from tensorflow.keras.preprocessing.text import Tokenizer\n",
    "from tensorflow.keras.preprocessing.sequence import pad_sequences\n",
    "from tensorflow.keras import backend as K\n",
    "from collections import Counter"
   ]
  },
  {
   "cell_type": "code",
   "execution_count": 2,
   "id": "dea1b7c6",
   "metadata": {
    "_cell_guid": "b1076dfc-b9ad-4769-8c92-a6c4dae69d19",
    "_uuid": "8f2839f25d086af736a60e9eeb907d3b93b6e0e5",
    "execution": {
     "iopub.execute_input": "2024-06-17T03:03:44.201993Z",
     "iopub.status.busy": "2024-06-17T03:03:44.201049Z",
     "iopub.status.idle": "2024-06-17T03:03:44.210979Z",
     "shell.execute_reply": "2024-06-17T03:03:44.209382Z"
    },
    "papermill": {
     "duration": 0.027375,
     "end_time": "2024-06-17T03:03:44.214371",
     "exception": false,
     "start_time": "2024-06-17T03:03:44.186996",
     "status": "completed"
    },
    "tags": []
   },
   "outputs": [
    {
     "name": "stdout",
     "output_type": "stream",
     "text": [
      "/kaggle/input/nlp-getting-started/sample_submission.csv\n",
      "/kaggle/input/nlp-getting-started/train.csv\n",
      "/kaggle/input/nlp-getting-started/test.csv\n"
     ]
    }
   ],
   "source": [
    "for dirname, _, filenames in os.walk('/kaggle/input'):\n",
    "    for filename in filenames:\n",
    "        print(os.path.join(dirname, filename))"
   ]
  },
  {
   "cell_type": "code",
   "execution_count": 3,
   "id": "a4987507",
   "metadata": {
    "execution": {
     "iopub.execute_input": "2024-06-17T03:03:44.243294Z",
     "iopub.status.busy": "2024-06-17T03:03:44.242238Z",
     "iopub.status.idle": "2024-06-17T03:03:44.328058Z",
     "shell.execute_reply": "2024-06-17T03:03:44.326270Z"
    },
    "papermill": {
     "duration": 0.104152,
     "end_time": "2024-06-17T03:03:44.331305",
     "exception": false,
     "start_time": "2024-06-17T03:03:44.227153",
     "status": "completed"
    },
    "tags": []
   },
   "outputs": [],
   "source": [
    "df = pd.read_csv(\"/kaggle/input/nlp-getting-started/train.csv\")\n",
    "test_df = pd.read_csv(\"/kaggle/input/nlp-getting-started/test.csv\")"
   ]
  },
  {
   "cell_type": "markdown",
   "id": "33917d0e",
   "metadata": {
    "papermill": {
     "duration": 0.012763,
     "end_time": "2024-06-17T03:03:44.356714",
     "exception": false,
     "start_time": "2024-06-17T03:03:44.343951",
     "status": "completed"
    },
    "tags": []
   },
   "source": [
    "## Exploratory Data Analysis (EDA) — Inspect, Visualize and Clean the Data"
   ]
  },
  {
   "cell_type": "code",
   "execution_count": 4,
   "id": "a3384902",
   "metadata": {
    "execution": {
     "iopub.execute_input": "2024-06-17T03:03:44.383632Z",
     "iopub.status.busy": "2024-06-17T03:03:44.383087Z",
     "iopub.status.idle": "2024-06-17T03:03:44.410935Z",
     "shell.execute_reply": "2024-06-17T03:03:44.409418Z"
    },
    "papermill": {
     "duration": 0.044763,
     "end_time": "2024-06-17T03:03:44.413716",
     "exception": false,
     "start_time": "2024-06-17T03:03:44.368953",
     "status": "completed"
    },
    "tags": []
   },
   "outputs": [
    {
     "data": {
      "text/html": [
       "<div>\n",
       "<style scoped>\n",
       "    .dataframe tbody tr th:only-of-type {\n",
       "        vertical-align: middle;\n",
       "    }\n",
       "\n",
       "    .dataframe tbody tr th {\n",
       "        vertical-align: top;\n",
       "    }\n",
       "\n",
       "    .dataframe thead th {\n",
       "        text-align: right;\n",
       "    }\n",
       "</style>\n",
       "<table border=\"1\" class=\"dataframe\">\n",
       "  <thead>\n",
       "    <tr style=\"text-align: right;\">\n",
       "      <th></th>\n",
       "      <th>id</th>\n",
       "      <th>keyword</th>\n",
       "      <th>location</th>\n",
       "      <th>text</th>\n",
       "      <th>target</th>\n",
       "    </tr>\n",
       "  </thead>\n",
       "  <tbody>\n",
       "    <tr>\n",
       "      <th>0</th>\n",
       "      <td>1</td>\n",
       "      <td>NaN</td>\n",
       "      <td>NaN</td>\n",
       "      <td>Our Deeds are the Reason of this #earthquake M...</td>\n",
       "      <td>1</td>\n",
       "    </tr>\n",
       "    <tr>\n",
       "      <th>1</th>\n",
       "      <td>4</td>\n",
       "      <td>NaN</td>\n",
       "      <td>NaN</td>\n",
       "      <td>Forest fire near La Ronge Sask. Canada</td>\n",
       "      <td>1</td>\n",
       "    </tr>\n",
       "    <tr>\n",
       "      <th>2</th>\n",
       "      <td>5</td>\n",
       "      <td>NaN</td>\n",
       "      <td>NaN</td>\n",
       "      <td>All residents asked to 'shelter in place' are ...</td>\n",
       "      <td>1</td>\n",
       "    </tr>\n",
       "    <tr>\n",
       "      <th>3</th>\n",
       "      <td>6</td>\n",
       "      <td>NaN</td>\n",
       "      <td>NaN</td>\n",
       "      <td>13,000 people receive #wildfires evacuation or...</td>\n",
       "      <td>1</td>\n",
       "    </tr>\n",
       "    <tr>\n",
       "      <th>4</th>\n",
       "      <td>7</td>\n",
       "      <td>NaN</td>\n",
       "      <td>NaN</td>\n",
       "      <td>Just got sent this photo from Ruby #Alaska as ...</td>\n",
       "      <td>1</td>\n",
       "    </tr>\n",
       "  </tbody>\n",
       "</table>\n",
       "</div>"
      ],
      "text/plain": [
       "   id keyword location                                               text  \\\n",
       "0   1     NaN      NaN  Our Deeds are the Reason of this #earthquake M...   \n",
       "1   4     NaN      NaN             Forest fire near La Ronge Sask. Canada   \n",
       "2   5     NaN      NaN  All residents asked to 'shelter in place' are ...   \n",
       "3   6     NaN      NaN  13,000 people receive #wildfires evacuation or...   \n",
       "4   7     NaN      NaN  Just got sent this photo from Ruby #Alaska as ...   \n",
       "\n",
       "   target  \n",
       "0       1  \n",
       "1       1  \n",
       "2       1  \n",
       "3       1  \n",
       "4       1  "
      ]
     },
     "execution_count": 4,
     "metadata": {},
     "output_type": "execute_result"
    }
   ],
   "source": [
    "df.head()"
   ]
  },
  {
   "cell_type": "markdown",
   "id": "c28dc676",
   "metadata": {
    "papermill": {
     "duration": 0.012029,
     "end_time": "2024-06-17T03:03:44.439289",
     "exception": false,
     "start_time": "2024-06-17T03:03:44.427260",
     "status": "completed"
    },
    "tags": []
   },
   "source": [
    "The first step is getting rid of duplicated tweets, the keyword and location features are not guranteed in every tweet, so they were removed to reduce noise."
   ]
  },
  {
   "cell_type": "code",
   "execution_count": 5,
   "id": "bfdcf7d6",
   "metadata": {
    "execution": {
     "iopub.execute_input": "2024-06-17T03:03:44.466248Z",
     "iopub.status.busy": "2024-06-17T03:03:44.465747Z",
     "iopub.status.idle": "2024-06-17T03:03:44.486793Z",
     "shell.execute_reply": "2024-06-17T03:03:44.485551Z"
    },
    "papermill": {
     "duration": 0.038214,
     "end_time": "2024-06-17T03:03:44.489930",
     "exception": false,
     "start_time": "2024-06-17T03:03:44.451716",
     "status": "completed"
    },
    "tags": []
   },
   "outputs": [],
   "source": [
    "df = df.drop_duplicates(\"text\")\n",
    "df = df.drop([\"keyword\",\"location\"], axis=1)"
   ]
  },
  {
   "cell_type": "markdown",
   "id": "d268fdba",
   "metadata": {
    "papermill": {
     "duration": 0.012004,
     "end_time": "2024-06-17T03:03:44.514755",
     "exception": false,
     "start_time": "2024-06-17T03:03:44.502751",
     "status": "completed"
    },
    "tags": []
   },
   "source": [
    "The next step is to generate training and validation splits to explore the data further."
   ]
  },
  {
   "cell_type": "code",
   "execution_count": 6,
   "id": "34ef2b83",
   "metadata": {
    "execution": {
     "iopub.execute_input": "2024-06-17T03:03:44.541741Z",
     "iopub.status.busy": "2024-06-17T03:03:44.541237Z",
     "iopub.status.idle": "2024-06-17T03:03:44.552741Z",
     "shell.execute_reply": "2024-06-17T03:03:44.551363Z"
    },
    "papermill": {
     "duration": 0.028533,
     "end_time": "2024-06-17T03:03:44.555662",
     "exception": false,
     "start_time": "2024-06-17T03:03:44.527129",
     "status": "completed"
    },
    "tags": []
   },
   "outputs": [],
   "source": [
    "train_df, val_df = train_test_split(df, test_size=.2, random_state=28)"
   ]
  },
  {
   "cell_type": "code",
   "execution_count": 7,
   "id": "6a269ad7",
   "metadata": {
    "execution": {
     "iopub.execute_input": "2024-06-17T03:03:44.583366Z",
     "iopub.status.busy": "2024-06-17T03:03:44.582860Z",
     "iopub.status.idle": "2024-06-17T03:03:44.597206Z",
     "shell.execute_reply": "2024-06-17T03:03:44.595881Z"
    },
    "papermill": {
     "duration": 0.031097,
     "end_time": "2024-06-17T03:03:44.599830",
     "exception": false,
     "start_time": "2024-06-17T03:03:44.568733",
     "status": "completed"
    },
    "tags": []
   },
   "outputs": [
    {
     "data": {
      "text/plain": [
       "target\n",
       "0    3449\n",
       "1    2553\n",
       "Name: count, dtype: int64"
      ]
     },
     "execution_count": 7,
     "metadata": {},
     "output_type": "execute_result"
    }
   ],
   "source": [
    "train_df.target.value_counts()"
   ]
  },
  {
   "cell_type": "markdown",
   "id": "38333bcd",
   "metadata": {
    "papermill": {
     "duration": 0.012193,
     "end_time": "2024-06-17T03:03:44.624704",
     "exception": false,
     "start_time": "2024-06-17T03:03:44.612511",
     "status": "completed"
    },
    "tags": []
   },
   "source": [
    "Tweets have all types of special characters and symbols that don't necessary add to the discussion around emergency and disasters, so they were also removed."
   ]
  },
  {
   "cell_type": "code",
   "execution_count": 8,
   "id": "cfb265d3",
   "metadata": {
    "execution": {
     "iopub.execute_input": "2024-06-17T03:03:44.652600Z",
     "iopub.status.busy": "2024-06-17T03:03:44.652065Z",
     "iopub.status.idle": "2024-06-17T03:03:44.710176Z",
     "shell.execute_reply": "2024-06-17T03:03:44.708805Z"
    },
    "papermill": {
     "duration": 0.075814,
     "end_time": "2024-06-17T03:03:44.713136",
     "exception": false,
     "start_time": "2024-06-17T03:03:44.637322",
     "status": "completed"
    },
    "tags": []
   },
   "outputs": [],
   "source": [
    "def clean_text(text):\n",
    "    # Remove non-letter characters and convert to lowercase\n",
    "    text = re.sub(r\"[^a-zA-Z0-9\\s]\", \"\", text)\n",
    "    text = text.lower() # turn into lowercase\n",
    "    \n",
    "    return text\n",
    "train_df[\"text\"] = train_df[\"text\"].apply(clean_text)"
   ]
  },
  {
   "cell_type": "markdown",
   "id": "5d8a4533",
   "metadata": {
    "papermill": {
     "duration": 0.012775,
     "end_time": "2024-06-17T03:03:44.739559",
     "exception": false,
     "start_time": "2024-06-17T03:03:44.726784",
     "status": "completed"
    },
    "tags": []
   },
   "source": [
    "To solve the word embedding processing, the TF-IDF method is implemented:\n",
    "\n",
    "TF calculates the term frequency of each word in each article. \n",
    "\n",
    "IDF calculates the frequency of each word across all the articles. \n",
    "\n",
    "TF-IDF together calculate the importance of each word and assign weights to each word according to the frequency. \n",
    "\n",
    "The output after applying the TF-IDF function is a matrix with documents and words, the values are the assigned weights."
   ]
  },
  {
   "cell_type": "code",
   "execution_count": 9,
   "id": "a81c0ab1",
   "metadata": {
    "execution": {
     "iopub.execute_input": "2024-06-17T03:03:44.767377Z",
     "iopub.status.busy": "2024-06-17T03:03:44.766893Z",
     "iopub.status.idle": "2024-06-17T03:03:45.062581Z",
     "shell.execute_reply": "2024-06-17T03:03:45.061239Z"
    },
    "papermill": {
     "duration": 0.313612,
     "end_time": "2024-06-17T03:03:45.066068",
     "exception": false,
     "start_time": "2024-06-17T03:03:44.752456",
     "status": "completed"
    },
    "tags": []
   },
   "outputs": [],
   "source": [
    "tfidf_vectorizer = TfidfVectorizer(max_features=30, stop_words=\"english\")\n",
    "X = tfidf_vectorizer.fit_transform(df['text']).toarray()\n",
    "feature_names = tfidf_vectorizer.get_feature_names_out()\n",
    "train_tf_idf = pd.DataFrame(X, columns=feature_names)\n",
    "train_tf_idf[\"target\"] = train_df[\"target\"]"
   ]
  },
  {
   "cell_type": "code",
   "execution_count": 10,
   "id": "63e3cfb2",
   "metadata": {
    "execution": {
     "iopub.execute_input": "2024-06-17T03:03:45.094907Z",
     "iopub.status.busy": "2024-06-17T03:03:45.094361Z",
     "iopub.status.idle": "2024-06-17T03:03:45.109354Z",
     "shell.execute_reply": "2024-06-17T03:03:45.107883Z"
    },
    "papermill": {
     "duration": 0.032848,
     "end_time": "2024-06-17T03:03:45.112454",
     "exception": false,
     "start_time": "2024-06-17T03:03:45.079606",
     "status": "completed"
    },
    "tags": []
   },
   "outputs": [],
   "source": [
    "tf_idf_mean = train_tf_idf.groupby(\"target\").agg(\"mean\").reset_index().T.drop([\"target\", \"http\", \"https\"], axis=0)\n",
    "tf_idf_mean.columns = [\"No Disaster\", \"Disaster\"]"
   ]
  },
  {
   "cell_type": "code",
   "execution_count": 11,
   "id": "72872a5b",
   "metadata": {
    "execution": {
     "iopub.execute_input": "2024-06-17T03:03:45.142018Z",
     "iopub.status.busy": "2024-06-17T03:03:45.141508Z",
     "iopub.status.idle": "2024-06-17T03:03:46.214132Z",
     "shell.execute_reply": "2024-06-17T03:03:46.212683Z"
    },
    "papermill": {
     "duration": 1.090587,
     "end_time": "2024-06-17T03:03:46.217072",
     "exception": false,
     "start_time": "2024-06-17T03:03:45.126485",
     "status": "completed"
    },
    "tags": []
   },
   "outputs": [
    {
     "data": {
      "image/png": "[encoded data removed]",
      "text/plain": [
       "<Figure size 1000x600 with 1 Axes>"
      ]
     },
     "metadata": {},
     "output_type": "display_data"
    }
   ],
   "source": [
    "# Set the aesthetic style of the plots\n",
    "sns.set_style(\"whitegrid\")\n",
    "\n",
    "# Plotting\n",
    "fig, ax = plt.subplots(figsize=(10, 6))\n",
    "terms = tf_idf_mean.index\n",
    "y = np.arange(len(terms))  # the label locations\n",
    "\n",
    "# Create custom colors\n",
    "color_for_0 = '#3498db'  # Blue color\n",
    "color_for_1 = '#e74c3c'  # Red color\n",
    "\n",
    "# Creating the horizontal bar chart\n",
    "sns.barplot(data=tf_idf_mean, x='No Disaster', y=terms, color=color_for_0, label='No Disaster', ax=ax)\n",
    "sns.barplot(data=tf_idf_mean, x='Disaster', y=terms, color=color_for_1, alpha=.8, label='Disaster', ax=ax)\n",
    "\n",
    "# Adding labels, title and custom y-axis tick labels, etc.\n",
    "ax.set_xlabel('Mean TF-IDF Value')\n",
    "ax.set_ylabel('Terms')\n",
    "ax.set_title('Mean TF-IDF Values by Term and Target')\n",
    "ax.legend(title='Target')\n",
    "\n",
    "# Show the plot\n",
    "plt.show()"
   ]
  },
  {
   "cell_type": "markdown",
   "id": "0e08c60b",
   "metadata": {
    "papermill": {
     "duration": 0.014556,
     "end_time": "2024-06-17T03:03:46.250481",
     "exception": false,
     "start_time": "2024-06-17T03:03:46.235925",
     "status": "completed"
    },
    "tags": []
   },
   "source": [
    "Going through the process of using a tf-idf word embedding, made me realize that LSTM won't benefit from it because tf-idf offers a whole corpus analysis and loses word sequence context. This is why a tokenizer will be used instead to take advantange of the sequential order of text in the traning of the model.\n",
    "\n",
    "The tokenizer is fitted with the training text and it is replacing each word with its term frequency ranking instead. See below."
   ]
  },
  {
   "cell_type": "code",
   "execution_count": 12,
   "id": "39c8c068",
   "metadata": {
    "execution": {
     "iopub.execute_input": "2024-06-17T03:03:46.280207Z",
     "iopub.status.busy": "2024-06-17T03:03:46.279693Z",
     "iopub.status.idle": "2024-06-17T03:03:46.662740Z",
     "shell.execute_reply": "2024-06-17T03:03:46.661220Z"
    },
    "papermill": {
     "duration": 0.401089,
     "end_time": "2024-06-17T03:03:46.665507",
     "exception": false,
     "start_time": "2024-06-17T03:03:46.264418",
     "status": "completed"
    },
    "tags": []
   },
   "outputs": [
    {
     "name": "stdout",
     "output_type": "stream",
     "text": [
      "Ranking: Word\n",
      "1: the\n",
      "2: a\n",
      "3: in\n",
      "4: to\n",
      "5: of\n",
      "6: and\n",
      "7: i\n",
      "8: is\n",
      "9: for\n",
      "10: on\n",
      "11: you\n"
     ]
    }
   ],
   "source": [
    "# Tokenization\n",
    "tokenizer = Tokenizer(num_words=None)\n",
    "tokenizer.fit_on_texts(train_df.text)\n",
    "sequences = tokenizer.texts_to_sequences(train_df.text)\n",
    "\n",
    "index_word = {i: w for w, i in tokenizer.word_index.items()}\n",
    "# Detokenize sequences and count word frequencies\n",
    "detokenized_texts = []\n",
    "for sequence in sequences:\n",
    "    words = [index_word.get(idx, '') for idx in sequence]\n",
    "    detokenized_texts.extend(words)\n",
    "\n",
    "\n",
    "word_counts = Counter(detokenized_texts)\n",
    "print(\"Ranking: Word\")\n",
    "for index, (key, value) in enumerate(index_word.items()):\n",
    "    if index < 11:\n",
    "        print(f\"{key}: {value}\")"
   ]
  },
  {
   "cell_type": "code",
   "execution_count": 13,
   "id": "48b82956",
   "metadata": {
    "execution": {
     "iopub.execute_input": "2024-06-17T03:03:46.695190Z",
     "iopub.status.busy": "2024-06-17T03:03:46.694685Z",
     "iopub.status.idle": "2024-06-17T03:03:46.703260Z",
     "shell.execute_reply": "2024-06-17T03:03:46.701673Z"
    },
    "papermill": {
     "duration": 0.026686,
     "end_time": "2024-06-17T03:03:46.706080",
     "exception": false,
     "start_time": "2024-06-17T03:03:46.679394",
     "status": "completed"
    },
    "tags": []
   },
   "outputs": [
    {
     "name": "stdout",
     "output_type": "stream",
     "text": [
      "For sequence:\n",
      "[104, 61, 7, 57, 52, 3, 201, 333, 9, 550, 56, 64, 6, 1, 287, 82, 120, 5745]\n",
      "\n",
      "Translates into:\n",
      "['love', 'how', 'i', 'dont', 'get', 'in', 'any', 'trouble', 'for', 'having', 'people', 'over', 'and', 'the', 'house', 'still', 'being', 'trashed']\n"
     ]
    }
   ],
   "source": [
    "print(\"For sequence:\")\n",
    "print(sequences[0])\n",
    "seq_example = []\n",
    "for rank in sequences[0]:\n",
    "    seq_example.append(index_word[rank])\n",
    "print(\"\\nTranslates into:\")\n",
    "print(seq_example)"
   ]
  },
  {
   "cell_type": "markdown",
   "id": "2f1a2d00",
   "metadata": {
    "papermill": {
     "duration": 0.013718,
     "end_time": "2024-06-17T03:03:46.733670",
     "exception": false,
     "start_time": "2024-06-17T03:03:46.719952",
     "status": "completed"
    },
    "tags": []
   },
   "source": [
    "The last transformation needed is padding. Since each of the tweets have different length, shorter tweets need to be padded with 0's, and longer tweets might need to be trimmed to hit the right balance of information passed to the model."
   ]
  },
  {
   "cell_type": "code",
   "execution_count": 14,
   "id": "c0935b30",
   "metadata": {
    "execution": {
     "iopub.execute_input": "2024-06-17T03:03:46.763265Z",
     "iopub.status.busy": "2024-06-17T03:03:46.762803Z",
     "iopub.status.idle": "2024-06-17T03:03:47.199473Z",
     "shell.execute_reply": "2024-06-17T03:03:47.198081Z"
    },
    "papermill": {
     "duration": 0.45529,
     "end_time": "2024-06-17T03:03:47.202872",
     "exception": false,
     "start_time": "2024-06-17T03:03:46.747582",
     "status": "completed"
    },
    "tags": []
   },
   "outputs": [
    {
     "data": {
      "image/png": "[encoded data removed]",
      "text/plain": [
       "<Figure size 640x480 with 1 Axes>"
      ]
     },
     "metadata": {},
     "output_type": "display_data"
    }
   ],
   "source": [
    "tweet_len = []\n",
    "for seq in sequences:\n",
    "    tweet_len.append(len(seq))\n",
    "plt.hist(tweet_len)\n",
    "plt.title(\"Tweet word count distribution\")\n",
    "plt.xlabel(\"Word per tweet\")\n",
    "plt.show()"
   ]
  },
  {
   "cell_type": "markdown",
   "id": "69e74f31",
   "metadata": {
    "papermill": {
     "duration": 0.014893,
     "end_time": "2024-06-17T03:03:47.232578",
     "exception": false,
     "start_time": "2024-06-17T03:03:47.217685",
     "status": "completed"
    },
    "tags": []
   },
   "source": [
    "According to the distribution, 20 seems like a good treshold."
   ]
  },
  {
   "cell_type": "code",
   "execution_count": 15,
   "id": "6e1eece5",
   "metadata": {
    "execution": {
     "iopub.execute_input": "2024-06-17T03:03:47.265317Z",
     "iopub.status.busy": "2024-06-17T03:03:47.264839Z",
     "iopub.status.idle": "2024-06-17T03:03:47.436704Z",
     "shell.execute_reply": "2024-06-17T03:03:47.434939Z"
    },
    "papermill": {
     "duration": 0.192667,
     "end_time": "2024-06-17T03:03:47.440949",
     "exception": false,
     "start_time": "2024-06-17T03:03:47.248282",
     "status": "completed"
    },
    "tags": []
   },
   "outputs": [],
   "source": [
    "sequences = tokenizer.texts_to_sequences(train_df.text)\n",
    "padded_sequences = pad_sequences(sequences, maxlen=20)"
   ]
  },
  {
   "cell_type": "markdown",
   "id": "c02ec697",
   "metadata": {
    "papermill": {
     "duration": 0.014078,
     "end_time": "2024-06-17T03:03:47.470217",
     "exception": false,
     "start_time": "2024-06-17T03:03:47.456139",
     "status": "completed"
    },
    "tags": []
   },
   "source": [
    "To wrap up the data cleaning process, a corpus of text is cleaned by removing special characters and symbols, a tokenizer is fit to that text. That tokenizer is used to turn texts into sequences and then those sequences are padded with 0's to match a fixed input size for the model."
   ]
  },
  {
   "cell_type": "code",
   "execution_count": 16,
   "id": "5679f047",
   "metadata": {
    "execution": {
     "iopub.execute_input": "2024-06-17T03:03:47.502546Z",
     "iopub.status.busy": "2024-06-17T03:03:47.502058Z",
     "iopub.status.idle": "2024-06-17T03:03:47.510023Z",
     "shell.execute_reply": "2024-06-17T03:03:47.508349Z"
    },
    "papermill": {
     "duration": 0.027124,
     "end_time": "2024-06-17T03:03:47.512969",
     "exception": false,
     "start_time": "2024-06-17T03:03:47.485845",
     "status": "completed"
    },
    "tags": []
   },
   "outputs": [],
   "source": [
    "def pre_process_data(train_text, test_text):\n",
    "    \n",
    "    train_text = train_text.apply(clean_text)\n",
    "    test_text = test_text.apply(clean_text)\n",
    "    tokenizer.fit_on_texts(train_text)\n",
    "    sequences = tokenizer.texts_to_sequences(test_text)\n",
    "    padded_sequences = pad_sequences(sequences, maxlen=20)\n",
    "    return padded_sequences, len(tokenizer.index_word)+1"
   ]
  },
  {
   "cell_type": "markdown",
   "id": "51002fcf",
   "metadata": {
    "papermill": {
     "duration": 0.015111,
     "end_time": "2024-06-17T03:03:47.542977",
     "exception": false,
     "start_time": "2024-06-17T03:03:47.527866",
     "status": "completed"
    },
    "tags": []
   },
   "source": [
    "## Model Architecture\n",
    "\n",
    "Before fitting any model, a custom f1_score metric is created to train the model optimizing for the kaggle's competition metric."
   ]
  },
  {
   "cell_type": "code",
   "execution_count": 17,
   "id": "2b985e8b",
   "metadata": {
    "execution": {
     "iopub.execute_input": "2024-06-17T03:03:47.573845Z",
     "iopub.status.busy": "2024-06-17T03:03:47.573343Z",
     "iopub.status.idle": "2024-06-17T03:03:47.583392Z",
     "shell.execute_reply": "2024-06-17T03:03:47.582149Z"
    },
    "papermill": {
     "duration": 0.028662,
     "end_time": "2024-06-17T03:03:47.586069",
     "exception": false,
     "start_time": "2024-06-17T03:03:47.557407",
     "status": "completed"
    },
    "tags": []
   },
   "outputs": [],
   "source": [
    "def f1_score(y_true, y_pred):\n",
    "    y_true = K.cast(y_true, 'float32')  \n",
    "    y_pred_binary = K.round(y_pred)\n",
    "\n",
    "    tp = K.sum(y_true * y_pred_binary, axis=0)\n",
    "    fp = K.sum((1 - y_true) * y_pred_binary, axis=0)\n",
    "    fn = K.sum(y_true * (1 - y_pred_binary), axis=0)\n",
    "\n",
    "    precision = tp / (tp + fp + K.epsilon())\n",
    "    recall = tp / (tp + fn + K.epsilon())\n",
    "\n",
    "    f1 = 2 * (precision * recall) / (precision + recall + K.epsilon())\n",
    "    f1 = tf.where(tf.math.is_nan(f1), tf.zeros_like(f1), f1) \n",
    "    return K.mean(f1)  "
   ]
  },
  {
   "cell_type": "markdown",
   "id": "0ec7517c",
   "metadata": {
    "papermill": {
     "duration": 0.014745,
     "end_time": "2024-06-17T03:03:47.616395",
     "exception": false,
     "start_time": "2024-06-17T03:03:47.601650",
     "status": "completed"
    },
    "tags": []
   },
   "source": [
    "The first model is a sequential LSTM with an adam optimizer."
   ]
  },
  {
   "cell_type": "code",
   "execution_count": 18,
   "id": "3d8b93e7",
   "metadata": {
    "execution": {
     "iopub.execute_input": "2024-06-17T03:03:47.648243Z",
     "iopub.status.busy": "2024-06-17T03:03:47.647741Z",
     "iopub.status.idle": "2024-06-17T03:04:27.763237Z",
     "shell.execute_reply": "2024-06-17T03:04:27.761697Z"
    },
    "papermill": {
     "duration": 40.135101,
     "end_time": "2024-06-17T03:04:27.766395",
     "exception": false,
     "start_time": "2024-06-17T03:03:47.631294",
     "status": "completed"
    },
    "tags": []
   },
   "outputs": [
    {
     "name": "stderr",
     "output_type": "stream",
     "text": [
      "/opt/conda/lib/python3.10/site-packages/keras/src/layers/core/embedding.py:90: UserWarning: Argument `input_length` is deprecated. Just remove it.\n",
      "  warnings.warn(\n"
     ]
    },
    {
     "name": "stdout",
     "output_type": "stream",
     "text": [
      "Epoch 1/10\n",
      "\u001b[1m188/188\u001b[0m \u001b[32m━━━━━━━━━━━━━━━━━━━━\u001b[0m\u001b[37m\u001b[0m \u001b[1m7s\u001b[0m 21ms/step - f1_score: 0.2291 - loss: 0.6379 - val_f1_score: 0.6576 - val_loss: 0.5066\n",
      "Epoch 2/10\n",
      "\u001b[1m188/188\u001b[0m \u001b[32m━━━━━━━━━━━━━━━━━━━━\u001b[0m\u001b[37m\u001b[0m \u001b[1m4s\u001b[0m 19ms/step - f1_score: 0.8341 - loss: 0.3109 - val_f1_score: 0.7132 - val_loss: 0.4783\n",
      "Epoch 3/10\n",
      "\u001b[1m188/188\u001b[0m \u001b[32m━━━━━━━━━━━━━━━━━━━━\u001b[0m\u001b[37m\u001b[0m \u001b[1m4s\u001b[0m 20ms/step - f1_score: 0.9334 - loss: 0.1546 - val_f1_score: 0.7021 - val_loss: 0.6619\n",
      "Epoch 4/10\n",
      "\u001b[1m188/188\u001b[0m \u001b[32m━━━━━━━━━━━━━━━━━━━━\u001b[0m\u001b[37m\u001b[0m \u001b[1m4s\u001b[0m 19ms/step - f1_score: 0.9691 - loss: 0.0683 - val_f1_score: 0.7115 - val_loss: 0.6815\n",
      "Epoch 5/10\n",
      "\u001b[1m188/188\u001b[0m \u001b[32m━━━━━━━━━━━━━━━━━━━━\u001b[0m\u001b[37m\u001b[0m \u001b[1m4s\u001b[0m 19ms/step - f1_score: 0.9896 - loss: 0.0320 - val_f1_score: 0.7068 - val_loss: 0.8602\n",
      "Epoch 6/10\n",
      "\u001b[1m188/188\u001b[0m \u001b[32m━━━━━━━━━━━━━━━━━━━━\u001b[0m\u001b[37m\u001b[0m \u001b[1m3s\u001b[0m 18ms/step - f1_score: 0.9905 - loss: 0.0323 - val_f1_score: 0.7046 - val_loss: 0.9284\n",
      "Epoch 7/10\n",
      "\u001b[1m188/188\u001b[0m \u001b[32m━━━━━━━━━━━━━━━━━━━━\u001b[0m\u001b[37m\u001b[0m \u001b[1m3s\u001b[0m 18ms/step - f1_score: 0.9972 - loss: 0.0113 - val_f1_score: 0.7057 - val_loss: 0.9662\n",
      "Epoch 8/10\n",
      "\u001b[1m188/188\u001b[0m \u001b[32m━━━━━━━━━━━━━━━━━━━━\u001b[0m\u001b[37m\u001b[0m \u001b[1m4s\u001b[0m 19ms/step - f1_score: 0.9981 - loss: 0.0076 - val_f1_score: 0.7104 - val_loss: 1.1116\n",
      "Epoch 9/10\n",
      "\u001b[1m188/188\u001b[0m \u001b[32m━━━━━━━━━━━━━━━━━━━━\u001b[0m\u001b[37m\u001b[0m \u001b[1m4s\u001b[0m 19ms/step - f1_score: 0.9970 - loss: 0.0089 - val_f1_score: 0.7078 - val_loss: 1.1673\n",
      "Epoch 10/10\n",
      "\u001b[1m188/188\u001b[0m \u001b[32m━━━━━━━━━━━━━━━━━━━━\u001b[0m\u001b[37m\u001b[0m \u001b[1m4s\u001b[0m 20ms/step - f1_score: 0.9970 - loss: 0.0067 - val_f1_score: 0.7097 - val_loss: 1.2325\n"
     ]
    }
   ],
   "source": [
    "x_train,input_dim = pre_process_data(train_df.text, train_df.text)\n",
    "# Building the model\n",
    "model = Sequential()\n",
    "model.add(Embedding(input_dim=input_dim, output_dim=32, input_length=20))\n",
    "model.add(LSTM(50))\n",
    "model.add(Dense(1, activation='sigmoid'))\n",
    "\n",
    "# Compiling the model with custom F1 score metric\n",
    "model.compile(loss='binary_crossentropy', optimizer='adam', metrics=[f1_score])\n",
    "\n",
    "# Train the model\n",
    "x_val, input_dim = pre_process_data(train_df.text, val_df.text)\n",
    "history_sequential = model.fit(x_train, train_df.target, validation_data = (x_val,val_df.target), epochs=10)"
   ]
  },
  {
   "cell_type": "code",
   "execution_count": 19,
   "id": "caaa22a4",
   "metadata": {
    "execution": {
     "iopub.execute_input": "2024-06-17T03:04:27.918061Z",
     "iopub.status.busy": "2024-06-17T03:04:27.917565Z",
     "iopub.status.idle": "2024-06-17T03:04:28.646107Z",
     "shell.execute_reply": "2024-06-17T03:04:28.644458Z"
    },
    "papermill": {
     "duration": 0.809419,
     "end_time": "2024-06-17T03:04:28.649357",
     "exception": false,
     "start_time": "2024-06-17T03:04:27.839938",
     "status": "completed"
    },
    "tags": []
   },
   "outputs": [
    {
     "data": {
      "image/png": "[encoded data removed]",
      "text/plain": [
       "<Figure size 1200x400 with 2 Axes>"
      ]
     },
     "metadata": {},
     "output_type": "display_data"
    }
   ],
   "source": [
    "def model_plot(history):\n",
    "    # Plot training & validation loss values\n",
    "    plt.figure(figsize=(12, 4))\n",
    "    plt.subplot(1, 2, 1)\n",
    "    plt.plot(history.history['loss'])\n",
    "    plt.plot(history.history['val_loss'])\n",
    "    plt.title('Model loss')\n",
    "    plt.ylabel('Loss')\n",
    "    plt.xlabel('Epoch')\n",
    "    plt.legend(['Train', 'Validation'], loc='upper left')\n",
    "\n",
    "    # Plot training & validation F1 score values\n",
    "    plt.subplot(1, 2, 2)\n",
    "    plt.plot(history.history['f1_score'])\n",
    "    plt.plot(history.history['val_f1_score'])\n",
    "    plt.title('Model F1 Score')\n",
    "    plt.ylabel('F1 Score')\n",
    "    plt.xlabel('Epoch')\n",
    "    plt.legend(['Train', 'Validation'], loc='upper left')\n",
    "\n",
    "    plt.show()\n",
    "model_plot(history_sequential)"
   ]
  },
  {
   "cell_type": "markdown",
   "id": "84110cb1",
   "metadata": {
    "papermill": {
     "duration": 0.172209,
     "end_time": "2024-06-17T03:04:28.895524",
     "exception": false,
     "start_time": "2024-06-17T03:04:28.723315",
     "status": "completed"
    },
    "tags": []
   },
   "source": [
    "The second model is a LSTM with bideractional layer. There is not a significant improvement from the sequential model, so the first model is prefered to maintain a more simple solution."
   ]
  },
  {
   "cell_type": "code",
   "execution_count": 20,
   "id": "7c69713d",
   "metadata": {
    "execution": {
     "iopub.execute_input": "2024-06-17T03:04:29.052672Z",
     "iopub.status.busy": "2024-06-17T03:04:29.052177Z",
     "iopub.status.idle": "2024-06-17T03:05:16.462824Z",
     "shell.execute_reply": "2024-06-17T03:05:16.461171Z"
    },
    "papermill": {
     "duration": 47.495299,
     "end_time": "2024-06-17T03:05:16.466066",
     "exception": false,
     "start_time": "2024-06-17T03:04:28.970767",
     "status": "completed"
    },
    "tags": []
   },
   "outputs": [
    {
     "name": "stdout",
     "output_type": "stream",
     "text": [
      "Epoch 1/10\n",
      "\u001b[1m188/188\u001b[0m \u001b[32m━━━━━━━━━━━━━━━━━━━━\u001b[0m\u001b[37m\u001b[0m \u001b[1m9s\u001b[0m 23ms/step - f1_score: 0.2340 - loss: 0.6307 - val_f1_score: 0.7136 - val_loss: 0.4648\n",
      "Epoch 2/10\n",
      "\u001b[1m188/188\u001b[0m \u001b[32m━━━━━━━━━━━━━━━━━━━━\u001b[0m\u001b[37m\u001b[0m \u001b[1m5s\u001b[0m 21ms/step - f1_score: 0.8690 - loss: 0.2798 - val_f1_score: 0.6996 - val_loss: 0.5063\n",
      "Epoch 3/10\n",
      "\u001b[1m188/188\u001b[0m \u001b[32m━━━━━━━━━━━━━━━━━━━━\u001b[0m\u001b[37m\u001b[0m \u001b[1m4s\u001b[0m 21ms/step - f1_score: 0.9567 - loss: 0.1191 - val_f1_score: 0.7106 - val_loss: 0.6729\n",
      "Epoch 4/10\n",
      "\u001b[1m188/188\u001b[0m \u001b[32m━━━━━━━━━━━━━━━━━━━━\u001b[0m\u001b[37m\u001b[0m \u001b[1m4s\u001b[0m 21ms/step - f1_score: 0.9798 - loss: 0.0575 - val_f1_score: 0.6909 - val_loss: 0.8542\n",
      "Epoch 5/10\n",
      "\u001b[1m188/188\u001b[0m \u001b[32m━━━━━━━━━━━━━━━━━━━━\u001b[0m\u001b[37m\u001b[0m \u001b[1m4s\u001b[0m 20ms/step - f1_score: 0.9888 - loss: 0.0301 - val_f1_score: 0.7109 - val_loss: 1.0202\n",
      "Epoch 6/10\n",
      "\u001b[1m188/188\u001b[0m \u001b[32m━━━━━━━━━━━━━━━━━━━━\u001b[0m\u001b[37m\u001b[0m \u001b[1m4s\u001b[0m 23ms/step - f1_score: 0.9950 - loss: 0.0134 - val_f1_score: 0.6904 - val_loss: 1.0612\n",
      "Epoch 7/10\n",
      "\u001b[1m188/188\u001b[0m \u001b[32m━━━━━━━━━━━━━━━━━━━━\u001b[0m\u001b[37m\u001b[0m \u001b[1m4s\u001b[0m 21ms/step - f1_score: 0.9958 - loss: 0.0130 - val_f1_score: 0.7052 - val_loss: 1.1330\n",
      "Epoch 8/10\n",
      "\u001b[1m188/188\u001b[0m \u001b[32m━━━━━━━━━━━━━━━━━━━━\u001b[0m\u001b[37m\u001b[0m \u001b[1m4s\u001b[0m 21ms/step - f1_score: 0.9946 - loss: 0.0120 - val_f1_score: 0.6915 - val_loss: 1.1053\n",
      "Epoch 9/10\n",
      "\u001b[1m188/188\u001b[0m \u001b[32m━━━━━━━━━━━━━━━━━━━━\u001b[0m\u001b[37m\u001b[0m \u001b[1m4s\u001b[0m 21ms/step - f1_score: 0.9977 - loss: 0.0066 - val_f1_score: 0.6835 - val_loss: 1.2539\n",
      "Epoch 10/10\n",
      "\u001b[1m188/188\u001b[0m \u001b[32m━━━━━━━━━━━━━━━━━━━━\u001b[0m\u001b[37m\u001b[0m \u001b[1m4s\u001b[0m 20ms/step - f1_score: 0.9974 - loss: 0.0069 - val_f1_score: 0.6823 - val_loss: 1.4899\n"
     ]
    },
    {
     "data": {
      "image/png": "[encoded data removed]",
      "text/plain": [
       "<Figure size 1200x400 with 2 Axes>"
      ]
     },
     "metadata": {},
     "output_type": "display_data"
    }
   ],
   "source": [
    "x_train,input_dim = pre_process_data(train_df.text, train_df.text)\n",
    "# Building the model\n",
    "model = Sequential()\n",
    "model.add(Embedding(input_dim=input_dim, output_dim=32, input_length=20))\n",
    "model.add(Bidirectional(LSTM(50)))\n",
    "model.add(Dense(1, activation='sigmoid'))\n",
    "\n",
    "# Compiling the model with custom F1 score metric\n",
    "model.compile(loss='binary_crossentropy', optimizer='adam', metrics=[f1_score])\n",
    "\n",
    "# Train the model\n",
    "x_val, input_dim = pre_process_data(train_df.text, val_df.text)\n",
    "history_bidirectional = model.fit(x_train, train_df.target, validation_data = (x_val,val_df.target), epochs=10)\n",
    "model_plot(history_bidirectional)"
   ]
  },
  {
   "cell_type": "markdown",
   "id": "aa37121c",
   "metadata": {
    "papermill": {
     "duration": 0.138504,
     "end_time": "2024-06-17T03:05:16.745372",
     "exception": false,
     "start_time": "2024-06-17T03:05:16.606868",
     "status": "completed"
    },
    "tags": []
   },
   "source": [
    "## Results and Analysis"
   ]
  },
  {
   "cell_type": "markdown",
   "id": "f73ba7f2",
   "metadata": {
    "papermill": {
     "duration": 0.139429,
     "end_time": "2024-06-17T03:05:17.022720",
     "exception": false,
     "start_time": "2024-06-17T03:05:16.883291",
     "status": "completed"
    },
    "tags": []
   },
   "source": [
    "Finally, a full model is trained using the complete training dataset. Since there were no improvements trying different parameters, adding a dropout and activation functions, the final model is just a sequential LSTM."
   ]
  },
  {
   "cell_type": "code",
   "execution_count": 21,
   "id": "9bbfe6d5",
   "metadata": {
    "execution": {
     "iopub.execute_input": "2024-06-17T03:05:17.305837Z",
     "iopub.status.busy": "2024-06-17T03:05:17.305305Z",
     "iopub.status.idle": "2024-06-17T03:06:01.573336Z",
     "shell.execute_reply": "2024-06-17T03:06:01.572042Z"
    },
    "papermill": {
     "duration": 44.412514,
     "end_time": "2024-06-17T03:06:01.576494",
     "exception": false,
     "start_time": "2024-06-17T03:05:17.163980",
     "status": "completed"
    },
    "tags": []
   },
   "outputs": [
    {
     "name": "stdout",
     "output_type": "stream",
     "text": [
      "Epoch 1/10\n",
      "\u001b[1m235/235\u001b[0m \u001b[32m━━━━━━━━━━━━━━━━━━━━\u001b[0m\u001b[37m\u001b[0m \u001b[1m7s\u001b[0m 17ms/step - f1_score: 0.2296 - loss: 0.6251\n",
      "Epoch 2/10\n",
      "\u001b[1m235/235\u001b[0m \u001b[32m━━━━━━━━━━━━━━━━━━━━\u001b[0m\u001b[37m\u001b[0m \u001b[1m4s\u001b[0m 17ms/step - f1_score: 0.8412 - loss: 0.3003\n",
      "Epoch 3/10\n",
      "\u001b[1m235/235\u001b[0m \u001b[32m━━━━━━━━━━━━━━━━━━━━\u001b[0m\u001b[37m\u001b[0m \u001b[1m4s\u001b[0m 18ms/step - f1_score: 0.9321 - loss: 0.1489\n",
      "Epoch 4/10\n",
      "\u001b[1m235/235\u001b[0m \u001b[32m━━━━━━━━━━━━━━━━━━━━\u001b[0m\u001b[37m\u001b[0m \u001b[1m4s\u001b[0m 17ms/step - f1_score: 0.9670 - loss: 0.0737\n",
      "Epoch 5/10\n",
      "\u001b[1m235/235\u001b[0m \u001b[32m━━━━━━━━━━━━━━━━━━━━\u001b[0m\u001b[37m\u001b[0m \u001b[1m4s\u001b[0m 17ms/step - f1_score: 0.9880 - loss: 0.0353\n",
      "Epoch 6/10\n",
      "\u001b[1m235/235\u001b[0m \u001b[32m━━━━━━━━━━━━━━━━━━━━\u001b[0m\u001b[37m\u001b[0m \u001b[1m4s\u001b[0m 17ms/step - f1_score: 0.9906 - loss: 0.0214\n",
      "Epoch 7/10\n",
      "\u001b[1m235/235\u001b[0m \u001b[32m━━━━━━━━━━━━━━━━━━━━\u001b[0m\u001b[37m\u001b[0m \u001b[1m4s\u001b[0m 17ms/step - f1_score: 0.9954 - loss: 0.0147\n",
      "Epoch 8/10\n",
      "\u001b[1m235/235\u001b[0m \u001b[32m━━━━━━━━━━━━━━━━━━━━\u001b[0m\u001b[37m\u001b[0m \u001b[1m4s\u001b[0m 17ms/step - f1_score: 0.9949 - loss: 0.0138\n",
      "Epoch 9/10\n",
      "\u001b[1m235/235\u001b[0m \u001b[32m━━━━━━━━━━━━━━━━━━━━\u001b[0m\u001b[37m\u001b[0m \u001b[1m4s\u001b[0m 17ms/step - f1_score: 0.9961 - loss: 0.0087\n",
      "Epoch 10/10\n",
      "\u001b[1m235/235\u001b[0m \u001b[32m━━━━━━━━━━━━━━━━━━━━\u001b[0m\u001b[37m\u001b[0m \u001b[1m4s\u001b[0m 17ms/step - f1_score: 0.9956 - loss: 0.0091\n"
     ]
    }
   ],
   "source": [
    "x_train,input_dim = pre_process_data(df.text, df.text)\n",
    "# Building the model\n",
    "model = Sequential()\n",
    "model.add(Embedding(input_dim=input_dim, output_dim=32, input_length=20))\n",
    "model.add(LSTM(50))\n",
    "model.add(Dense(1, activation='sigmoid'))\n",
    "\n",
    "# Compiling the model with custom F1 score metric\n",
    "model.compile(loss='binary_crossentropy', optimizer='adam', metrics=[f1_score])\n",
    "\n",
    "# Train the model\n",
    "history = model.fit(x_train, df.target, epochs=10)"
   ]
  },
  {
   "cell_type": "code",
   "execution_count": 22,
   "id": "465ec6c8",
   "metadata": {
    "execution": {
     "iopub.execute_input": "2024-06-17T03:06:02.053043Z",
     "iopub.status.busy": "2024-06-17T03:06:02.051261Z",
     "iopub.status.idle": "2024-06-17T03:06:03.617378Z",
     "shell.execute_reply": "2024-06-17T03:06:03.615718Z"
    },
    "papermill": {
     "duration": 1.810646,
     "end_time": "2024-06-17T03:06:03.620520",
     "exception": false,
     "start_time": "2024-06-17T03:06:01.809874",
     "status": "completed"
    },
    "tags": []
   },
   "outputs": [
    {
     "name": "stdout",
     "output_type": "stream",
     "text": [
      "\u001b[1m102/102\u001b[0m \u001b[32m━━━━━━━━━━━━━━━━━━━━\u001b[0m\u001b[37m\u001b[0m \u001b[1m1s\u001b[0m 8ms/step\n"
     ]
    }
   ],
   "source": [
    "x_test,input_dim = pre_process_data(df.text, test_df.text)\n",
    "preds = model.predict(x_test)"
   ]
  },
  {
   "cell_type": "code",
   "execution_count": 23,
   "id": "7ce18cc3",
   "metadata": {
    "execution": {
     "iopub.execute_input": "2024-06-17T03:06:04.053471Z",
     "iopub.status.busy": "2024-06-17T03:06:04.052994Z",
     "iopub.status.idle": "2024-06-17T03:06:04.091432Z",
     "shell.execute_reply": "2024-06-17T03:06:04.090080Z"
    },
    "papermill": {
     "duration": 0.260928,
     "end_time": "2024-06-17T03:06:04.094362",
     "exception": false,
     "start_time": "2024-06-17T03:06:03.833434",
     "status": "completed"
    },
    "tags": []
   },
   "outputs": [
    {
     "data": {
      "text/html": [
       "<div>\n",
       "<style scoped>\n",
       "    .dataframe tbody tr th:only-of-type {\n",
       "        vertical-align: middle;\n",
       "    }\n",
       "\n",
       "    .dataframe tbody tr th {\n",
       "        vertical-align: top;\n",
       "    }\n",
       "\n",
       "    .dataframe thead th {\n",
       "        text-align: right;\n",
       "    }\n",
       "</style>\n",
       "<table border=\"1\" class=\"dataframe\">\n",
       "  <thead>\n",
       "    <tr style=\"text-align: right;\">\n",
       "      <th></th>\n",
       "      <th>id</th>\n",
       "      <th>target</th>\n",
       "    </tr>\n",
       "  </thead>\n",
       "  <tbody>\n",
       "    <tr>\n",
       "      <th>0</th>\n",
       "      <td>0</td>\n",
       "      <td>0</td>\n",
       "    </tr>\n",
       "    <tr>\n",
       "      <th>1</th>\n",
       "      <td>2</td>\n",
       "      <td>1</td>\n",
       "    </tr>\n",
       "    <tr>\n",
       "      <th>2</th>\n",
       "      <td>3</td>\n",
       "      <td>1</td>\n",
       "    </tr>\n",
       "    <tr>\n",
       "      <th>3</th>\n",
       "      <td>9</td>\n",
       "      <td>0</td>\n",
       "    </tr>\n",
       "    <tr>\n",
       "      <th>4</th>\n",
       "      <td>11</td>\n",
       "      <td>1</td>\n",
       "    </tr>\n",
       "  </tbody>\n",
       "</table>\n",
       "</div>"
      ],
      "text/plain": [
       "   id  target\n",
       "0   0       0\n",
       "1   2       1\n",
       "2   3       1\n",
       "3   9       0\n",
       "4  11       1"
      ]
     },
     "execution_count": 23,
     "metadata": {},
     "output_type": "execute_result"
    }
   ],
   "source": [
    "subm = pd.read_csv(\"../input/nlp-getting-started/sample_submission.csv\")\n",
    "subm[\"target\"] = [1 if i > 0.5 else 0 for i in preds]\n",
    "subm.head()"
   ]
  },
  {
   "cell_type": "code",
   "execution_count": 24,
   "id": "a7ecf78e",
   "metadata": {
    "execution": {
     "iopub.execute_input": "2024-06-17T03:06:04.538522Z",
     "iopub.status.busy": "2024-06-17T03:06:04.538082Z",
     "iopub.status.idle": "2024-06-17T03:06:04.551115Z",
     "shell.execute_reply": "2024-06-17T03:06:04.550080Z"
    },
    "papermill": {
     "duration": 0.23804,
     "end_time": "2024-06-17T03:06:04.554024",
     "exception": false,
     "start_time": "2024-06-17T03:06:04.315984",
     "status": "completed"
    },
    "tags": []
   },
   "outputs": [],
   "source": [
    "subm.to_csv(\"Submission_Basic.csv\", index=False)"
   ]
  },
  {
   "cell_type": "markdown",
   "id": "5fa6068e",
   "metadata": {},
   "source": [
    "![score](rnn_score.png)"
   ]
  },
  {
   "cell_type": "markdown",
   "id": "927b93cd",
   "metadata": {
    "papermill": {
     "duration": 0.220836,
     "end_time": "2024-06-17T03:06:04.994762",
     "exception": false,
     "start_time": "2024-06-17T03:06:04.773926",
     "status": "completed"
    },
    "tags": []
   },
   "source": [
    "## Conclusion\n",
    "\n",
    "In this specific usecase, the LSTM model did not perform as well as other methods. Based on my review of other kaggle users, models like BERT and Glove embeddings outperform LSTM. It seems extracting context from text is not one of this model strengths, it'd be interesting to measure its performance on more sequential expected patterns like time series analysis."
   ]
  },
  {
   "cell_type": "markdown",
   "id": "4ebdfde3",
   "metadata": {
    "papermill": {
     "duration": 0.323427,
     "end_time": "2024-06-17T03:06:05.539022",
     "exception": false,
     "start_time": "2024-06-17T03:06:05.215595",
     "status": "completed"
    },
    "tags": []
   },
   "source": [
    "Github repo: https://github.com/luisdi28ms/deep_learning/tree/main/cnn"
   ]
  }
 ],
 "metadata": {
  "kaggle": {
   "accelerator": "none",
   "dataSources": [
    {
     "databundleVersionId": 869809,
     "sourceId": 17777,
     "sourceType": "competition"
    }
   ],
   "dockerImageVersionId": 30732,
   "isGpuEnabled": false,
   "isInternetEnabled": true,
   "language": "python",
   "sourceType": "notebook"
  },
  "kernelspec": {
   "display_name": "Python 3",
   "language": "python",
   "name": "python3"
  },
  "language_info": {
   "codemirror_mode": {
    "name": "ipython",
    "version": 3
   },
   "file_extension": ".py",
   "mimetype": "text/x-python",
   "name": "python",
   "nbconvert_exporter": "python",
   "pygments_lexer": "ipython3",
   "version": "3.10.13"
  },
  "papermill": {
   "default_parameters": {},
   "duration": 167.535242,
   "end_time": "2024-06-17T03:06:08.491747",
   "environment_variables": {},
   "exception": null,
   "input_path": "__notebook__.ipynb",
   "output_path": "__notebook__.ipynb",
   "parameters": {},
   "start_time": "2024-06-17T03:03:20.956505",
   "version": "2.5.0"
  }
 },
 "nbformat": 4,
 "nbformat_minor": 5
}
