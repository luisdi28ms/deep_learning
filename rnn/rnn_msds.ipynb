{
 "cells": [
  {
   "cell_type": "markdown",
   "id": "e7c7b46e",
   "metadata": {
    "papermill": {
     "duration": 0.009582,
     "end_time": "2024-06-16T00:36:30.928364",
     "exception": false,
     "start_time": "2024-06-16T00:36:30.918782",
     "status": "completed"
    },
    "tags": []
   },
   "source": [
    "## Brief description of the problem and data\n",
    "\n",
    "This project is about analyzing a large number of tweets (10,000) and determining based on the context if the tweet is about a real disaster ocurring or not. The problem will be addressed by training a recurrent neural network (rnn), comparing different architectures and applying the best fitted model.\n",
    "\n",
    "* Objective: The score is evaluated as F1. \n",
    "\n",
    "$$ F1=2*\\frac{precision * recall}{precision + recall} $$\n",
    "\n",
    "$$ precision = \\frac{TP}{TP+FP} $$\n",
    "\n",
    "$$ recall = \\frac{TP}{TP+FN} $$\n",
    "    \n",
    "    \n",
    "* Problem Type: Binary Classification\n",
    "* Dataset: A curated list of 10,000 tweets hand classified. Other than the label and tweet text, it has some features like location and keyword.\n",
    "\n",
    "Addison Howard, devrishi, Phil Culliton, Yufeng Guo. (2019). Natural Language Processing with Disaster Tweets. Kaggle. https://kaggle.com/competitions/nlp-getting-started"
   ]
  },
  {
   "cell_type": "code",
   "execution_count": 1,
   "id": "0a946c03",
   "metadata": {
    "_cell_guid": "b1076dfc-b9ad-4769-8c92-a6c4dae69d19",
    "_uuid": "8f2839f25d086af736a60e9eeb907d3b93b6e0e5",
    "execution": {
     "iopub.execute_input": "2024-06-16T00:36:30.948581Z",
     "iopub.status.busy": "2024-06-16T00:36:30.948170Z",
     "iopub.status.idle": "2024-06-16T00:36:49.713235Z",
     "shell.execute_reply": "2024-06-16T00:36:49.712149Z"
    },
    "papermill": {
     "duration": 18.778492,
     "end_time": "2024-06-16T00:36:49.716059",
     "exception": false,
     "start_time": "2024-06-16T00:36:30.937567",
     "status": "completed"
    },
    "tags": []
   },
   "outputs": [
    {
     "name": "stderr",
     "output_type": "stream",
     "text": [
      "2024-06-16 00:36:36.731113: E external/local_xla/xla/stream_executor/cuda/cuda_dnn.cc:9261] Unable to register cuDNN factory: Attempting to register factory for plugin cuDNN when one has already been registered\n",
      "2024-06-16 00:36:36.731813: E external/local_xla/xla/stream_executor/cuda/cuda_fft.cc:607] Unable to register cuFFT factory: Attempting to register factory for plugin cuFFT when one has already been registered\n",
      "2024-06-16 00:36:36.944276: E external/local_xla/xla/stream_executor/cuda/cuda_blas.cc:1515] Unable to register cuBLAS factory: Attempting to register factory for plugin cuBLAS when one has already been registered\n"
     ]
    }
   ],
   "source": [
    "import numpy as np\n",
    "import pandas as pd \n",
    "import os\n",
    "import re\n",
    "import matplotlib.pyplot as plt\n",
    "import seaborn as sns\n",
    "from sklearn.model_selection import train_test_split\n",
    "from sklearn.feature_extraction.text import TfidfVectorizer\n",
    "from tensorflow.keras.models import Sequential\n",
    "from tensorflow.keras.layers import LSTM, Dense, Dropout"
   ]
  },
  {
   "cell_type": "code",
   "execution_count": 2,
   "id": "41865f9a",
   "metadata": {
    "_cell_guid": "b1076dfc-b9ad-4769-8c92-a6c4dae69d19",
    "_uuid": "8f2839f25d086af736a60e9eeb907d3b93b6e0e5",
    "execution": {
     "iopub.execute_input": "2024-06-16T00:36:49.737278Z",
     "iopub.status.busy": "2024-06-16T00:36:49.736532Z",
     "iopub.status.idle": "2024-06-16T00:36:49.745491Z",
     "shell.execute_reply": "2024-06-16T00:36:49.744019Z"
    },
    "papermill": {
     "duration": 0.022176,
     "end_time": "2024-06-16T00:36:49.747933",
     "exception": false,
     "start_time": "2024-06-16T00:36:49.725757",
     "status": "completed"
    },
    "tags": []
   },
   "outputs": [
    {
     "name": "stdout",
     "output_type": "stream",
     "text": [
      "/kaggle/input/nlp-getting-started/sample_submission.csv\n",
      "/kaggle/input/nlp-getting-started/train.csv\n",
      "/kaggle/input/nlp-getting-started/test.csv\n"
     ]
    }
   ],
   "source": [
    "for dirname, _, filenames in os.walk('/kaggle/input'):\n",
    "    for filename in filenames:\n",
    "        print(os.path.join(dirname, filename))"
   ]
  },
  {
   "cell_type": "code",
   "execution_count": 3,
   "id": "708393dc",
   "metadata": {
    "execution": {
     "iopub.execute_input": "2024-06-16T00:36:49.768513Z",
     "iopub.status.busy": "2024-06-16T00:36:49.768109Z",
     "iopub.status.idle": "2024-06-16T00:36:49.822977Z",
     "shell.execute_reply": "2024-06-16T00:36:49.821563Z"
    },
    "papermill": {
     "duration": 0.068677,
     "end_time": "2024-06-16T00:36:49.825953",
     "exception": false,
     "start_time": "2024-06-16T00:36:49.757276",
     "status": "completed"
    },
    "tags": []
   },
   "outputs": [],
   "source": [
    "df = pd.read_csv(\"/kaggle/input/nlp-getting-started/train.csv\")"
   ]
  },
  {
   "cell_type": "markdown",
   "id": "5be551fa",
   "metadata": {
    "papermill": {
     "duration": 0.009669,
     "end_time": "2024-06-16T00:36:49.845138",
     "exception": false,
     "start_time": "2024-06-16T00:36:49.835469",
     "status": "completed"
    },
    "tags": []
   },
   "source": [
    "## Exploratory Data Analysis (EDA) — Inspect, Visualize and Clean the Data"
   ]
  },
  {
   "cell_type": "code",
   "execution_count": 4,
   "id": "dfeff340",
   "metadata": {
    "execution": {
     "iopub.execute_input": "2024-06-16T00:36:49.867143Z",
     "iopub.status.busy": "2024-06-16T00:36:49.866714Z",
     "iopub.status.idle": "2024-06-16T00:36:49.893794Z",
     "shell.execute_reply": "2024-06-16T00:36:49.892449Z"
    },
    "papermill": {
     "duration": 0.041054,
     "end_time": "2024-06-16T00:36:49.896623",
     "exception": false,
     "start_time": "2024-06-16T00:36:49.855569",
     "status": "completed"
    },
    "tags": []
   },
   "outputs": [
    {
     "data": {
      "text/html": [
       "<div>\n",
       "<style scoped>\n",
       "    .dataframe tbody tr th:only-of-type {\n",
       "        vertical-align: middle;\n",
       "    }\n",
       "\n",
       "    .dataframe tbody tr th {\n",
       "        vertical-align: top;\n",
       "    }\n",
       "\n",
       "    .dataframe thead th {\n",
       "        text-align: right;\n",
       "    }\n",
       "</style>\n",
       "<table border=\"1\" class=\"dataframe\">\n",
       "  <thead>\n",
       "    <tr style=\"text-align: right;\">\n",
       "      <th></th>\n",
       "      <th>id</th>\n",
       "      <th>keyword</th>\n",
       "      <th>location</th>\n",
       "      <th>text</th>\n",
       "      <th>target</th>\n",
       "    </tr>\n",
       "  </thead>\n",
       "  <tbody>\n",
       "    <tr>\n",
       "      <th>0</th>\n",
       "      <td>1</td>\n",
       "      <td>NaN</td>\n",
       "      <td>NaN</td>\n",
       "      <td>Our Deeds are the Reason of this #earthquake M...</td>\n",
       "      <td>1</td>\n",
       "    </tr>\n",
       "    <tr>\n",
       "      <th>1</th>\n",
       "      <td>4</td>\n",
       "      <td>NaN</td>\n",
       "      <td>NaN</td>\n",
       "      <td>Forest fire near La Ronge Sask. Canada</td>\n",
       "      <td>1</td>\n",
       "    </tr>\n",
       "    <tr>\n",
       "      <th>2</th>\n",
       "      <td>5</td>\n",
       "      <td>NaN</td>\n",
       "      <td>NaN</td>\n",
       "      <td>All residents asked to 'shelter in place' are ...</td>\n",
       "      <td>1</td>\n",
       "    </tr>\n",
       "    <tr>\n",
       "      <th>3</th>\n",
       "      <td>6</td>\n",
       "      <td>NaN</td>\n",
       "      <td>NaN</td>\n",
       "      <td>13,000 people receive #wildfires evacuation or...</td>\n",
       "      <td>1</td>\n",
       "    </tr>\n",
       "    <tr>\n",
       "      <th>4</th>\n",
       "      <td>7</td>\n",
       "      <td>NaN</td>\n",
       "      <td>NaN</td>\n",
       "      <td>Just got sent this photo from Ruby #Alaska as ...</td>\n",
       "      <td>1</td>\n",
       "    </tr>\n",
       "  </tbody>\n",
       "</table>\n",
       "</div>"
      ],
      "text/plain": [
       "   id keyword location                                               text  \\\n",
       "0   1     NaN      NaN  Our Deeds are the Reason of this #earthquake M...   \n",
       "1   4     NaN      NaN             Forest fire near La Ronge Sask. Canada   \n",
       "2   5     NaN      NaN  All residents asked to 'shelter in place' are ...   \n",
       "3   6     NaN      NaN  13,000 people receive #wildfires evacuation or...   \n",
       "4   7     NaN      NaN  Just got sent this photo from Ruby #Alaska as ...   \n",
       "\n",
       "   target  \n",
       "0       1  \n",
       "1       1  \n",
       "2       1  \n",
       "3       1  \n",
       "4       1  "
      ]
     },
     "execution_count": 4,
     "metadata": {},
     "output_type": "execute_result"
    }
   ],
   "source": [
    "df.head()"
   ]
  },
  {
   "cell_type": "markdown",
   "id": "206873f3",
   "metadata": {
    "papermill": {
     "duration": 0.009484,
     "end_time": "2024-06-16T00:36:49.915960",
     "exception": false,
     "start_time": "2024-06-16T00:36:49.906476",
     "status": "completed"
    },
    "tags": []
   },
   "source": [
    "The first step is getting rid of duplicated tweets, the keyword and location features are not guranteed in every tweet, so they were removed to reduce noise."
   ]
  },
  {
   "cell_type": "code",
   "execution_count": 5,
   "id": "363b404e",
   "metadata": {
    "execution": {
     "iopub.execute_input": "2024-06-16T00:36:49.938017Z",
     "iopub.status.busy": "2024-06-16T00:36:49.937559Z",
     "iopub.status.idle": "2024-06-16T00:36:49.958727Z",
     "shell.execute_reply": "2024-06-16T00:36:49.957407Z"
    },
    "papermill": {
     "duration": 0.035675,
     "end_time": "2024-06-16T00:36:49.961731",
     "exception": false,
     "start_time": "2024-06-16T00:36:49.926056",
     "status": "completed"
    },
    "tags": []
   },
   "outputs": [],
   "source": [
    "df = df.drop_duplicates(\"text\")\n",
    "df = df.drop([\"keyword\",\"location\"], axis=1)"
   ]
  },
  {
   "cell_type": "markdown",
   "id": "9bcf8382",
   "metadata": {
    "papermill": {
     "duration": 0.010335,
     "end_time": "2024-06-16T00:36:49.982809",
     "exception": false,
     "start_time": "2024-06-16T00:36:49.972474",
     "status": "completed"
    },
    "tags": []
   },
   "source": [
    "The next step is to generate training and validation splits to explore the data further."
   ]
  },
  {
   "cell_type": "code",
   "execution_count": 6,
   "id": "5c070a37",
   "metadata": {
    "execution": {
     "iopub.execute_input": "2024-06-16T00:36:50.004164Z",
     "iopub.status.busy": "2024-06-16T00:36:50.003775Z",
     "iopub.status.idle": "2024-06-16T00:36:50.013843Z",
     "shell.execute_reply": "2024-06-16T00:36:50.012681Z"
    },
    "papermill": {
     "duration": 0.024,
     "end_time": "2024-06-16T00:36:50.016593",
     "exception": false,
     "start_time": "2024-06-16T00:36:49.992593",
     "status": "completed"
    },
    "tags": []
   },
   "outputs": [],
   "source": [
    "train_df, val_df = train_test_split(df, test_size=.2, random_state=28)"
   ]
  },
  {
   "cell_type": "code",
   "execution_count": 7,
   "id": "dc5a7b5e",
   "metadata": {
    "execution": {
     "iopub.execute_input": "2024-06-16T00:36:50.038290Z",
     "iopub.status.busy": "2024-06-16T00:36:50.037917Z",
     "iopub.status.idle": "2024-06-16T00:36:50.051649Z",
     "shell.execute_reply": "2024-06-16T00:36:50.050225Z"
    },
    "papermill": {
     "duration": 0.028076,
     "end_time": "2024-06-16T00:36:50.054406",
     "exception": false,
     "start_time": "2024-06-16T00:36:50.026330",
     "status": "completed"
    },
    "tags": []
   },
   "outputs": [
    {
     "data": {
      "text/plain": [
       "target\n",
       "0    3449\n",
       "1    2553\n",
       "Name: count, dtype: int64"
      ]
     },
     "execution_count": 7,
     "metadata": {},
     "output_type": "execute_result"
    }
   ],
   "source": [
    "train_df.target.value_counts()"
   ]
  },
  {
   "cell_type": "markdown",
   "id": "b9d8f07d",
   "metadata": {
    "papermill": {
     "duration": 0.009512,
     "end_time": "2024-06-16T00:36:50.073946",
     "exception": false,
     "start_time": "2024-06-16T00:36:50.064434",
     "status": "completed"
    },
    "tags": []
   },
   "source": [
    "Tweets have all types of special characters and symbols that don't necessary add to the discussion around emergency and disasters, so they were also removed."
   ]
  },
  {
   "cell_type": "code",
   "execution_count": 8,
   "id": "a2aede10",
   "metadata": {
    "execution": {
     "iopub.execute_input": "2024-06-16T00:36:50.096941Z",
     "iopub.status.busy": "2024-06-16T00:36:50.096519Z",
     "iopub.status.idle": "2024-06-16T00:36:50.151662Z",
     "shell.execute_reply": "2024-06-16T00:36:50.150258Z"
    },
    "papermill": {
     "duration": 0.069369,
     "end_time": "2024-06-16T00:36:50.154574",
     "exception": false,
     "start_time": "2024-06-16T00:36:50.085205",
     "status": "completed"
    },
    "tags": []
   },
   "outputs": [],
   "source": [
    "def clean_text(text):\n",
    "    # Remove non-letter characters and convert to lowercase\n",
    "    text = re.sub(r\"[^a-zA-Z0-9\\s]\", \"\", text)\n",
    "    text = text.lower() # turn into lowercase\n",
    "    \n",
    "    return text\n",
    "train_df[\"text\"] = train_df[\"text\"].apply(clean_text)"
   ]
  },
  {
   "cell_type": "markdown",
   "id": "04cc4240",
   "metadata": {
    "papermill": {
     "duration": 0.009409,
     "end_time": "2024-06-16T00:36:50.174336",
     "exception": false,
     "start_time": "2024-06-16T00:36:50.164927",
     "status": "completed"
    },
    "tags": []
   },
   "source": [
    "To solve the word embedding processing, the TF-IDF method is implemented:\n",
    "\n",
    "TF calculates the term frequency of each word in each article. \n",
    "\n",
    "IDF calculates the frequency of each word across all the articles. \n",
    "\n",
    "TF-IDF together calculate the importance of each word and assign weights to each word according to the frequency. \n",
    "\n",
    "The output after applying the TF-IDF function is a matrix with documents and words, the values are the assigned weights."
   ]
  },
  {
   "cell_type": "code",
   "execution_count": 9,
   "id": "7de908a0",
   "metadata": {
    "execution": {
     "iopub.execute_input": "2024-06-16T00:36:50.196924Z",
     "iopub.status.busy": "2024-06-16T00:36:50.196492Z",
     "iopub.status.idle": "2024-06-16T00:36:50.472129Z",
     "shell.execute_reply": "2024-06-16T00:36:50.471033Z"
    },
    "papermill": {
     "duration": 0.290491,
     "end_time": "2024-06-16T00:36:50.475086",
     "exception": false,
     "start_time": "2024-06-16T00:36:50.184595",
     "status": "completed"
    },
    "tags": []
   },
   "outputs": [],
   "source": [
    "tfidf_vectorizer = TfidfVectorizer(max_features=30, stop_words=\"english\")\n",
    "X = tfidf_vectorizer.fit_transform(df['text']).toarray()\n",
    "feature_names = tfidf_vectorizer.get_feature_names_out()\n",
    "train_tf_idf = pd.DataFrame(X, columns=feature_names)\n",
    "train_tf_idf[\"target\"] = train_df[\"target\"]"
   ]
  },
  {
   "cell_type": "code",
   "execution_count": 10,
   "id": "4dc58ef5",
   "metadata": {
    "execution": {
     "iopub.execute_input": "2024-06-16T00:36:50.496542Z",
     "iopub.status.busy": "2024-06-16T00:36:50.496156Z",
     "iopub.status.idle": "2024-06-16T00:36:50.508554Z",
     "shell.execute_reply": "2024-06-16T00:36:50.507387Z"
    },
    "papermill": {
     "duration": 0.026499,
     "end_time": "2024-06-16T00:36:50.511534",
     "exception": false,
     "start_time": "2024-06-16T00:36:50.485035",
     "status": "completed"
    },
    "tags": []
   },
   "outputs": [],
   "source": [
    "tf_idf_mean = train_tf_idf.groupby(\"target\").agg(\"mean\").reset_index().T.drop([\"target\", \"http\", \"https\"], axis=0)\n",
    "tf_idf_mean.columns = [\"No Disaster\", \"Disaster\"]"
   ]
  },
  {
   "cell_type": "code",
   "execution_count": 11,
   "id": "b4619832",
   "metadata": {
    "execution": {
     "iopub.execute_input": "2024-06-16T00:36:50.533445Z",
     "iopub.status.busy": "2024-06-16T00:36:50.533044Z",
     "iopub.status.idle": "2024-06-16T00:36:51.608417Z",
     "shell.execute_reply": "2024-06-16T00:36:51.606977Z"
    },
    "papermill": {
     "duration": 1.089316,
     "end_time": "2024-06-16T00:36:51.611037",
     "exception": false,
     "start_time": "2024-06-16T00:36:50.521721",
     "status": "completed"
    },
    "tags": []
   },
   "outputs": [
    {
     "data": {
      "image/png": "[encoded data removed]",
      "text/plain": [
       "<Figure size 1000x600 with 1 Axes>"
      ]
     },
     "metadata": {},
     "output_type": "display_data"
    }
   ],
   "source": [
    "# Set the aesthetic style of the plots\n",
    "sns.set_style(\"whitegrid\")\n",
    "\n",
    "# Plotting\n",
    "fig, ax = plt.subplots(figsize=(10, 6))\n",
    "terms = tf_idf_mean.index\n",
    "y = np.arange(len(terms))  # the label locations\n",
    "\n",
    "# Create custom colors\n",
    "color_for_0 = '#3498db'  # Blue color\n",
    "color_for_1 = '#e74c3c'  # Red color\n",
    "\n",
    "# Creating the horizontal bar chart\n",
    "sns.barplot(data=tf_idf_mean, x='No Disaster', y=terms, color=color_for_0, label='No Disaster', ax=ax)\n",
    "sns.barplot(data=tf_idf_mean, x='Disaster', y=terms, color=color_for_1, alpha=.8, label='Disaster', ax=ax)\n",
    "\n",
    "# Adding labels, title and custom y-axis tick labels, etc.\n",
    "ax.set_xlabel('Mean TF-IDF Value')\n",
    "ax.set_ylabel('Terms')\n",
    "ax.set_title('Mean TF-IDF Values by Term and Target')\n",
    "ax.legend(title='Target')\n",
    "\n",
    "# Show the plot\n",
    "plt.show()"
   ]
  },
  {
   "cell_type": "code",
   "execution_count": 12,
   "id": "dab54b87",
   "metadata": {
    "execution": {
     "iopub.execute_input": "2024-06-16T00:36:51.634339Z",
     "iopub.status.busy": "2024-06-16T00:36:51.633924Z",
     "iopub.status.idle": "2024-06-16T00:36:51.641932Z",
     "shell.execute_reply": "2024-06-16T00:36:51.640743Z"
    },
    "papermill": {
     "duration": 0.022915,
     "end_time": "2024-06-16T00:36:51.644665",
     "exception": false,
     "start_time": "2024-06-16T00:36:51.621750",
     "status": "completed"
    },
    "tags": []
   },
   "outputs": [],
   "source": [
    "import tensorflow as tf\n",
    "from tensorflow.keras.preprocessing.text import Tokenizer\n",
    "from tensorflow.keras.preprocessing.sequence import pad_sequences\n",
    "from tensorflow.keras.models import Sequential\n",
    "from tensorflow.keras.layers import Embedding, LSTM, Dense"
   ]
  },
  {
   "cell_type": "code",
   "execution_count": 13,
   "id": "006e9231",
   "metadata": {
    "execution": {
     "iopub.execute_input": "2024-06-16T00:36:51.668803Z",
     "iopub.status.busy": "2024-06-16T00:36:51.667643Z",
     "iopub.status.idle": "2024-06-16T00:36:52.017881Z",
     "shell.execute_reply": "2024-06-16T00:36:52.016767Z"
    },
    "papermill": {
     "duration": 0.365385,
     "end_time": "2024-06-16T00:36:52.020773",
     "exception": false,
     "start_time": "2024-06-16T00:36:51.655388",
     "status": "completed"
    },
    "tags": []
   },
   "outputs": [],
   "source": [
    "# Example data\n",
    "\n",
    "\n",
    "# Tokenization and padding\n",
    "tokenizer = Tokenizer(num_words=1000)\n",
    "tokenizer.fit_on_texts(train_df.text)\n",
    "sequences = tokenizer.texts_to_sequences(train_df.text)\n",
    "padded_sequences = pad_sequences(sequences, maxlen=10)\n"
   ]
  },
  {
   "cell_type": "code",
   "execution_count": 14,
   "id": "2e5e46f5",
   "metadata": {
    "execution": {
     "iopub.execute_input": "2024-06-16T00:36:52.044236Z",
     "iopub.status.busy": "2024-06-16T00:36:52.043833Z",
     "iopub.status.idle": "2024-06-16T00:36:52.073886Z",
     "shell.execute_reply": "2024-06-16T00:36:52.072505Z"
    },
    "papermill": {
     "duration": 0.045472,
     "end_time": "2024-06-16T00:36:52.077005",
     "exception": false,
     "start_time": "2024-06-16T00:36:52.031533",
     "status": "completed"
    },
    "tags": []
   },
   "outputs": [
    {
     "name": "stdout",
     "output_type": "stream",
     "text": [
      "The most common word is 'the' appearing 2570 times.\n"
     ]
    }
   ],
   "source": [
    "from collections import Counter\n",
    "\n",
    "# Example data\n",
    "texts = [\"This is a positive example\", \"This is a negative example\"]\n",
    "\n",
    "\n",
    "index_word = {i: w for w, i in tokenizer.word_index.items()}\n",
    "\n",
    "# Detokenize sequences and count word frequencies\n",
    "detokenized_texts = []\n",
    "for sequence in sequences:\n",
    "    words = [index_word.get(idx, '') for idx in sequence]\n",
    "    detokenized_texts.extend(words)\n",
    "\n",
    "word_counts = Counter(detokenized_texts)\n",
    "\n",
    "# Most common word\n",
    "most_common_word, most_common_count = word_counts.most_common(1)[0]\n",
    "\n",
    "print(f\"The most common word is '{most_common_word}' appearing {most_common_count} times.\")\n"
   ]
  },
  {
   "cell_type": "code",
   "execution_count": 15,
   "id": "5dd3230c",
   "metadata": {
    "execution": {
     "iopub.execute_input": "2024-06-16T00:36:52.103087Z",
     "iopub.status.busy": "2024-06-16T00:36:52.102676Z",
     "iopub.status.idle": "2024-06-16T00:36:52.115805Z",
     "shell.execute_reply": "2024-06-16T00:36:52.114647Z"
    },
    "papermill": {
     "duration": 0.03067,
     "end_time": "2024-06-16T00:36:52.118777",
     "exception": false,
     "start_time": "2024-06-16T00:36:52.088107",
     "status": "completed"
    },
    "tags": []
   },
   "outputs": [
    {
     "name": "stdout",
     "output_type": "stream",
     "text": [
      "1: the\n",
      "2: a\n",
      "3: in\n",
      "4: to\n",
      "5: of\n",
      "love: 80\n",
      "how: 147\n",
      "i: 1084\n",
      "dont: 156\n",
      "get: 174\n"
     ]
    }
   ],
   "source": [
    "for index, (key, value) in enumerate(index_word.items()):\n",
    "    if index < 5:\n",
    "        print(f\"{key}: {value}\")\n",
    "for index, (key, value) in enumerate(word_counts.items()):\n",
    "    if index < 5:\n",
    "        print(f\"{key}: {value}\")"
   ]
  },
  {
   "cell_type": "code",
   "execution_count": 16,
   "id": "b409f2d3",
   "metadata": {
    "execution": {
     "iopub.execute_input": "2024-06-16T00:36:52.142299Z",
     "iopub.status.busy": "2024-06-16T00:36:52.141897Z",
     "iopub.status.idle": "2024-06-16T00:36:52.151723Z",
     "shell.execute_reply": "2024-06-16T00:36:52.150476Z"
    },
    "papermill": {
     "duration": 0.024725,
     "end_time": "2024-06-16T00:36:52.154366",
     "exception": false,
     "start_time": "2024-06-16T00:36:52.129641",
     "status": "completed"
    },
    "tags": []
   },
   "outputs": [],
   "source": [
    "import tensorflow as tf\n",
    "from tensorflow.keras import backend as K\n",
    "\n",
    "def f1_score(y_true, y_pred):\n",
    "    y_true = K.cast(y_true, 'float32')  # Ensure y_true is float32\n",
    "    y_pred_binary = K.round(y_pred)  # y_pred_binary is already float32 from rounding\n",
    "\n",
    "    tp = K.sum(y_true * y_pred_binary, axis=0)\n",
    "    fp = K.sum((1 - y_true) * y_pred_binary, axis=0)\n",
    "    fn = K.sum(y_true * (1 - y_pred_binary), axis=0)\n",
    "\n",
    "    precision = tp / (tp + fp + K.epsilon())\n",
    "    recall = tp / (tp + fn + K.epsilon())\n",
    "\n",
    "    f1 = 2 * (precision * recall) / (precision + recall + K.epsilon())\n",
    "    f1 = tf.where(tf.math.is_nan(f1), tf.zeros_like(f1), f1)  # Handle NaNs if precision and recall are zero\n",
    "    return K.mean(f1)  # Return average F1 score across batches\n",
    "\n"
   ]
  },
  {
   "cell_type": "code",
   "execution_count": 17,
   "id": "34aaadc3",
   "metadata": {
    "execution": {
     "iopub.execute_input": "2024-06-16T00:36:52.178661Z",
     "iopub.status.busy": "2024-06-16T00:36:52.178272Z",
     "iopub.status.idle": "2024-06-16T00:37:07.872470Z",
     "shell.execute_reply": "2024-06-16T00:37:07.871157Z"
    },
    "papermill": {
     "duration": 15.709851,
     "end_time": "2024-06-16T00:37:07.875331",
     "exception": false,
     "start_time": "2024-06-16T00:36:52.165480",
     "status": "completed"
    },
    "tags": []
   },
   "outputs": [
    {
     "name": "stdout",
     "output_type": "stream",
     "text": [
      "Epoch 1/10\n"
     ]
    },
    {
     "name": "stderr",
     "output_type": "stream",
     "text": [
      "/opt/conda/lib/python3.10/site-packages/keras/src/layers/core/embedding.py:90: UserWarning: Argument `input_length` is deprecated. Just remove it.\n",
      "  warnings.warn(\n"
     ]
    },
    {
     "name": "stdout",
     "output_type": "stream",
     "text": [
      "\u001b[1m188/188\u001b[0m \u001b[32m━━━━━━━━━━━━━━━━━━━━\u001b[0m\u001b[37m\u001b[0m \u001b[1m4s\u001b[0m 6ms/step - f1_score: 0.2950 - loss: 0.6290\n",
      "Epoch 2/10\n",
      "\u001b[1m188/188\u001b[0m \u001b[32m━━━━━━━━━━━━━━━━━━━━\u001b[0m\u001b[37m\u001b[0m \u001b[1m1s\u001b[0m 6ms/step - f1_score: 0.7569 - loss: 0.4130\n",
      "Epoch 3/10\n",
      "\u001b[1m188/188\u001b[0m \u001b[32m━━━━━━━━━━━━━━━━━━━━\u001b[0m\u001b[37m\u001b[0m \u001b[1m1s\u001b[0m 6ms/step - f1_score: 0.7818 - loss: 0.3866\n",
      "Epoch 4/10\n",
      "\u001b[1m188/188\u001b[0m \u001b[32m━━━━━━━━━━━━━━━━━━━━\u001b[0m\u001b[37m\u001b[0m \u001b[1m1s\u001b[0m 6ms/step - f1_score: 0.7942 - loss: 0.3747\n",
      "Epoch 5/10\n",
      "\u001b[1m188/188\u001b[0m \u001b[32m━━━━━━━━━━━━━━━━━━━━\u001b[0m\u001b[37m\u001b[0m \u001b[1m1s\u001b[0m 6ms/step - f1_score: 0.7995 - loss: 0.3559\n",
      "Epoch 6/10\n",
      "\u001b[1m188/188\u001b[0m \u001b[32m━━━━━━━━━━━━━━━━━━━━\u001b[0m\u001b[37m\u001b[0m \u001b[1m1s\u001b[0m 6ms/step - f1_score: 0.8235 - loss: 0.3312\n",
      "Epoch 7/10\n",
      "\u001b[1m188/188\u001b[0m \u001b[32m━━━━━━━━━━━━━━━━━━━━\u001b[0m\u001b[37m\u001b[0m \u001b[1m1s\u001b[0m 6ms/step - f1_score: 0.8203 - loss: 0.3205\n",
      "Epoch 8/10\n",
      "\u001b[1m188/188\u001b[0m \u001b[32m━━━━━━━━━━━━━━━━━━━━\u001b[0m\u001b[37m\u001b[0m \u001b[1m1s\u001b[0m 6ms/step - f1_score: 0.8115 - loss: 0.3207\n",
      "Epoch 9/10\n",
      "\u001b[1m188/188\u001b[0m \u001b[32m━━━━━━━━━━━━━━━━━━━━\u001b[0m\u001b[37m\u001b[0m \u001b[1m1s\u001b[0m 6ms/step - f1_score: 0.8430 - loss: 0.2956\n",
      "Epoch 10/10\n",
      "\u001b[1m188/188\u001b[0m \u001b[32m━━━━━━━━━━━━━━━━━━━━\u001b[0m\u001b[37m\u001b[0m \u001b[1m1s\u001b[0m 6ms/step - f1_score: 0.8521 - loss: 0.2752\n",
      "\u001b[1m188/188\u001b[0m \u001b[32m━━━━━━━━━━━━━━━━━━━━\u001b[0m\u001b[37m\u001b[0m \u001b[1m1s\u001b[0m 4ms/step\n"
     ]
    }
   ],
   "source": [
    "# Building the model\n",
    "model = Sequential()\n",
    "model.add(Embedding(input_dim=1000, output_dim=32, input_length=10))\n",
    "model.add(LSTM(50))\n",
    "model.add(Dense(1, activation='sigmoid'))\n",
    "\n",
    "# Compiling the model with custom F1 score metric\n",
    "model.compile(loss='binary_crossentropy', optimizer='adam', metrics=[f1_score])\n",
    "\n",
    "# Train the model\n",
    "model.fit(padded_sequences, train_df.target.astype(\"int32\"), epochs=10)\n",
    "\n",
    "\n",
    "# Predict\n",
    "predictions = model.predict(padded_sequences)"
   ]
  },
  {
   "cell_type": "code",
   "execution_count": 18,
   "id": "9fc99bc1",
   "metadata": {
    "execution": {
     "iopub.execute_input": "2024-06-16T00:37:07.948094Z",
     "iopub.status.busy": "2024-06-16T00:37:07.947602Z",
     "iopub.status.idle": "2024-06-16T00:37:08.228225Z",
     "shell.execute_reply": "2024-06-16T00:37:08.226978Z"
    },
    "papermill": {
     "duration": 0.320321,
     "end_time": "2024-06-16T00:37:08.231261",
     "exception": false,
     "start_time": "2024-06-16T00:37:07.910940",
     "status": "completed"
    },
    "tags": []
   },
   "outputs": [
    {
     "name": "stdout",
     "output_type": "stream",
     "text": [
      "\u001b[1m47/47\u001b[0m \u001b[32m━━━━━━━━━━━━━━━━━━━━\u001b[0m\u001b[37m\u001b[0m \u001b[1m0s\u001b[0m 3ms/step\n"
     ]
    }
   ],
   "source": [
    "sequences = tokenizer.texts_to_sequences(val_df.text)\n",
    "padded_sequences = pad_sequences(sequences, maxlen=10)\n",
    "predictions = model.predict(padded_sequences)"
   ]
  },
  {
   "cell_type": "code",
   "execution_count": 19,
   "id": "1e07b1be",
   "metadata": {
    "execution": {
     "iopub.execute_input": "2024-06-16T00:37:08.305195Z",
     "iopub.status.busy": "2024-06-16T00:37:08.304338Z",
     "iopub.status.idle": "2024-06-16T00:37:08.314149Z",
     "shell.execute_reply": "2024-06-16T00:37:08.312855Z"
    },
    "papermill": {
     "duration": 0.049729,
     "end_time": "2024-06-16T00:37:08.316661",
     "exception": false,
     "start_time": "2024-06-16T00:37:08.266932",
     "status": "completed"
    },
    "tags": []
   },
   "outputs": [],
   "source": [
    "val_pred = pd.DataFrame(predictions, columns=[\"pred\"]).reset_index()\n",
    "val_pred['py'] = (val_pred['pred'] > .5)*1\n",
    "val_pred[\"target\"] = val_df.reset_index()['target']"
   ]
  },
  {
   "cell_type": "code",
   "execution_count": 20,
   "id": "a5e75f34",
   "metadata": {
    "execution": {
     "iopub.execute_input": "2024-06-16T00:37:08.389394Z",
     "iopub.status.busy": "2024-06-16T00:37:08.388998Z",
     "iopub.status.idle": "2024-06-16T00:37:08.397109Z",
     "shell.execute_reply": "2024-06-16T00:37:08.396105Z"
    },
    "papermill": {
     "duration": 0.047585,
     "end_time": "2024-06-16T00:37:08.399552",
     "exception": false,
     "start_time": "2024-06-16T00:37:08.351967",
     "status": "completed"
    },
    "tags": []
   },
   "outputs": [
    {
     "data": {
      "text/plain": [
       "0.7295136575616256"
      ]
     },
     "execution_count": 20,
     "metadata": {},
     "output_type": "execute_result"
    }
   ],
   "source": [
    "sum(val_pred.py == val_pred.target)/1501"
   ]
  },
  {
   "cell_type": "markdown",
   "id": "7642a1c2",
   "metadata": {
    "papermill": {
     "duration": 0.03493,
     "end_time": "2024-06-16T00:37:08.470441",
     "exception": false,
     "start_time": "2024-06-16T00:37:08.435511",
     "status": "completed"
    },
    "tags": []
   },
   "source": [
    "## Model Architecture"
   ]
  },
  {
   "cell_type": "markdown",
   "id": "a8557ac5",
   "metadata": {
    "papermill": {
     "duration": 0.034808,
     "end_time": "2024-06-16T00:37:08.540628",
     "exception": false,
     "start_time": "2024-06-16T00:37:08.505820",
     "status": "completed"
    },
    "tags": []
   },
   "source": [
    "## Results and Analysis"
   ]
  },
  {
   "cell_type": "markdown",
   "id": "8f5be91d",
   "metadata": {
    "papermill": {
     "duration": 0.034657,
     "end_time": "2024-06-16T00:37:08.610594",
     "exception": false,
     "start_time": "2024-06-16T00:37:08.575937",
     "status": "completed"
    },
    "tags": []
   },
   "source": [
    "## Conclusion"
   ]
  }
 ],
 "metadata": {
  "kaggle": {
   "accelerator": "none",
   "dataSources": [
    {
     "databundleVersionId": 869809,
     "sourceId": 17777,
     "sourceType": "competition"
    }
   ],
   "dockerImageVersionId": 30732,
   "isGpuEnabled": false,
   "isInternetEnabled": true,
   "language": "python",
   "sourceType": "notebook"
  },
  "kernelspec": {
   "display_name": "Python 3",
   "language": "python",
   "name": "python3"
  },
  "language_info": {
   "codemirror_mode": {
    "name": "ipython",
    "version": 3
   },
   "file_extension": ".py",
   "mimetype": "text/x-python",
   "name": "python",
   "nbconvert_exporter": "python",
   "pygments_lexer": "ipython3",
   "version": "3.10.13"
  },
  "papermill": {
   "default_parameters": {},
   "duration": 42.676067,
   "end_time": "2024-06-16T00:37:10.371836",
   "environment_variables": {},
   "exception": null,
   "input_path": "__notebook__.ipynb",
   "output_path": "__notebook__.ipynb",
   "parameters": {},
   "start_time": "2024-06-16T00:36:27.695769",
   "version": "2.5.0"
  }
 },
 "nbformat": 4,
 "nbformat_minor": 5
}
