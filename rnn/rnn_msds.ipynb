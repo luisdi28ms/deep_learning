{
 "cells": [
  {
   "cell_type": "markdown",
   "id": "a3e21c2e",
   "metadata": {
    "papermill": {
     "duration": 0.008642,
     "end_time": "2024-06-17T02:45:01.093119",
     "exception": false,
     "start_time": "2024-06-17T02:45:01.084477",
     "status": "completed"
    },
    "tags": []
   },
   "source": [
    "## Brief description of the problem and data\n",
    "\n",
    "This project is about analyzing a large number of tweets (10,000) and determining based on the context if the tweet is about a real disaster ocurring or not. The problem will be addressed by training a recurrent neural network (rnn), comparing different architectures and applying the best fitted model.\n",
    "\n",
    "* Objective: The score is evaluated as F1. \n",
    "\n",
    "$$ F1=2*\\frac{precision * recall}{precision + recall} $$\n",
    "\n",
    "$$ precision = \\frac{TP}{TP+FP} $$\n",
    "\n",
    "$$ recall = \\frac{TP}{TP+FN} $$\n",
    "    \n",
    "    \n",
    "* Problem Type: Binary Classification\n",
    "* Dataset: A curated list of 10,000 tweets hand classified. Other than the label and tweet text, it has some features like location and keyword.\n",
    "\n",
    "Addison Howard, devrishi, Phil Culliton, Yufeng Guo. (2019). Natural Language Processing with Disaster Tweets. Kaggle. https://kaggle.com/competitions/nlp-getting-started"
   ]
  },
  {
   "cell_type": "code",
   "execution_count": 1,
   "id": "05e09be5",
   "metadata": {
    "_cell_guid": "b1076dfc-b9ad-4769-8c92-a6c4dae69d19",
    "_uuid": "8f2839f25d086af736a60e9eeb907d3b93b6e0e5",
    "execution": {
     "iopub.execute_input": "2024-06-17T02:45:01.111521Z",
     "iopub.status.busy": "2024-06-17T02:45:01.111136Z",
     "iopub.status.idle": "2024-06-17T02:45:17.293279Z",
     "shell.execute_reply": "2024-06-17T02:45:17.292106Z"
    },
    "papermill": {
     "duration": 16.194302,
     "end_time": "2024-06-17T02:45:17.295943",
     "exception": false,
     "start_time": "2024-06-17T02:45:01.101641",
     "status": "completed"
    },
    "tags": []
   },
   "outputs": [
    {
     "name": "stderr",
     "output_type": "stream",
     "text": [
      "2024-06-17 02:45:05.884375: E external/local_xla/xla/stream_executor/cuda/cuda_dnn.cc:9261] Unable to register cuDNN factory: Attempting to register factory for plugin cuDNN when one has already been registered\n",
      "2024-06-17 02:45:05.884499: E external/local_xla/xla/stream_executor/cuda/cuda_fft.cc:607] Unable to register cuFFT factory: Attempting to register factory for plugin cuFFT when one has already been registered\n",
      "2024-06-17 02:45:06.038641: E external/local_xla/xla/stream_executor/cuda/cuda_blas.cc:1515] Unable to register cuBLAS factory: Attempting to register factory for plugin cuBLAS when one has already been registered\n"
     ]
    }
   ],
   "source": [
    "import numpy as np\n",
    "import pandas as pd \n",
    "import os\n",
    "import re\n",
    "import matplotlib.pyplot as plt\n",
    "import seaborn as sns\n",
    "from sklearn.model_selection import train_test_split\n",
    "from sklearn.feature_extraction.text import TfidfVectorizer\n",
    "from tensorflow.keras.models import Sequential\n",
    "from tensorflow.keras.layers import LSTM, Dense, Dropout,Embedding, Bidirectional\n",
    "import tensorflow as tf\n",
    "from tensorflow.keras.preprocessing.text import Tokenizer\n",
    "from tensorflow.keras.preprocessing.sequence import pad_sequences\n",
    "from tensorflow.keras import backend as K\n",
    "from collections import Counter"
   ]
  },
  {
   "cell_type": "code",
   "execution_count": 2,
   "id": "eeb7a818",
   "metadata": {
    "_cell_guid": "b1076dfc-b9ad-4769-8c92-a6c4dae69d19",
    "_uuid": "8f2839f25d086af736a60e9eeb907d3b93b6e0e5",
    "execution": {
     "iopub.execute_input": "2024-06-17T02:45:17.315189Z",
     "iopub.status.busy": "2024-06-17T02:45:17.314493Z",
     "iopub.status.idle": "2024-06-17T02:45:17.326455Z",
     "shell.execute_reply": "2024-06-17T02:45:17.324958Z"
    },
    "papermill": {
     "duration": 0.024459,
     "end_time": "2024-06-17T02:45:17.329186",
     "exception": false,
     "start_time": "2024-06-17T02:45:17.304727",
     "status": "completed"
    },
    "tags": []
   },
   "outputs": [
    {
     "name": "stdout",
     "output_type": "stream",
     "text": [
      "/kaggle/input/nlp-getting-started/sample_submission.csv\n",
      "/kaggle/input/nlp-getting-started/train.csv\n",
      "/kaggle/input/nlp-getting-started/test.csv\n"
     ]
    }
   ],
   "source": [
    "for dirname, _, filenames in os.walk('/kaggle/input'):\n",
    "    for filename in filenames:\n",
    "        print(os.path.join(dirname, filename))"
   ]
  },
  {
   "cell_type": "code",
   "execution_count": 3,
   "id": "13dec815",
   "metadata": {
    "execution": {
     "iopub.execute_input": "2024-06-17T02:45:17.347771Z",
     "iopub.status.busy": "2024-06-17T02:45:17.347373Z",
     "iopub.status.idle": "2024-06-17T02:45:17.428849Z",
     "shell.execute_reply": "2024-06-17T02:45:17.427519Z"
    },
    "papermill": {
     "duration": 0.093836,
     "end_time": "2024-06-17T02:45:17.431671",
     "exception": false,
     "start_time": "2024-06-17T02:45:17.337835",
     "status": "completed"
    },
    "tags": []
   },
   "outputs": [],
   "source": [
    "df = pd.read_csv(\"/kaggle/input/nlp-getting-started/train.csv\")\n",
    "test_df = pd.read_csv(\"/kaggle/input/nlp-getting-started/test.csv\")"
   ]
  },
  {
   "cell_type": "markdown",
   "id": "a7623b9d",
   "metadata": {
    "papermill": {
     "duration": 0.009201,
     "end_time": "2024-06-17T02:45:17.449604",
     "exception": false,
     "start_time": "2024-06-17T02:45:17.440403",
     "status": "completed"
    },
    "tags": []
   },
   "source": [
    "## Exploratory Data Analysis (EDA) — Inspect, Visualize and Clean the Data"
   ]
  },
  {
   "cell_type": "code",
   "execution_count": 4,
   "id": "2404da86",
   "metadata": {
    "execution": {
     "iopub.execute_input": "2024-06-17T02:45:17.469403Z",
     "iopub.status.busy": "2024-06-17T02:45:17.468959Z",
     "iopub.status.idle": "2024-06-17T02:45:17.492925Z",
     "shell.execute_reply": "2024-06-17T02:45:17.491828Z"
    },
    "papermill": {
     "duration": 0.036438,
     "end_time": "2024-06-17T02:45:17.495409",
     "exception": false,
     "start_time": "2024-06-17T02:45:17.458971",
     "status": "completed"
    },
    "tags": []
   },
   "outputs": [
    {
     "data": {
      "text/html": [
       "<div>\n",
       "<style scoped>\n",
       "    .dataframe tbody tr th:only-of-type {\n",
       "        vertical-align: middle;\n",
       "    }\n",
       "\n",
       "    .dataframe tbody tr th {\n",
       "        vertical-align: top;\n",
       "    }\n",
       "\n",
       "    .dataframe thead th {\n",
       "        text-align: right;\n",
       "    }\n",
       "</style>\n",
       "<table border=\"1\" class=\"dataframe\">\n",
       "  <thead>\n",
       "    <tr style=\"text-align: right;\">\n",
       "      <th></th>\n",
       "      <th>id</th>\n",
       "      <th>keyword</th>\n",
       "      <th>location</th>\n",
       "      <th>text</th>\n",
       "      <th>target</th>\n",
       "    </tr>\n",
       "  </thead>\n",
       "  <tbody>\n",
       "    <tr>\n",
       "      <th>0</th>\n",
       "      <td>1</td>\n",
       "      <td>NaN</td>\n",
       "      <td>NaN</td>\n",
       "      <td>Our Deeds are the Reason of this #earthquake M...</td>\n",
       "      <td>1</td>\n",
       "    </tr>\n",
       "    <tr>\n",
       "      <th>1</th>\n",
       "      <td>4</td>\n",
       "      <td>NaN</td>\n",
       "      <td>NaN</td>\n",
       "      <td>Forest fire near La Ronge Sask. Canada</td>\n",
       "      <td>1</td>\n",
       "    </tr>\n",
       "    <tr>\n",
       "      <th>2</th>\n",
       "      <td>5</td>\n",
       "      <td>NaN</td>\n",
       "      <td>NaN</td>\n",
       "      <td>All residents asked to 'shelter in place' are ...</td>\n",
       "      <td>1</td>\n",
       "    </tr>\n",
       "    <tr>\n",
       "      <th>3</th>\n",
       "      <td>6</td>\n",
       "      <td>NaN</td>\n",
       "      <td>NaN</td>\n",
       "      <td>13,000 people receive #wildfires evacuation or...</td>\n",
       "      <td>1</td>\n",
       "    </tr>\n",
       "    <tr>\n",
       "      <th>4</th>\n",
       "      <td>7</td>\n",
       "      <td>NaN</td>\n",
       "      <td>NaN</td>\n",
       "      <td>Just got sent this photo from Ruby #Alaska as ...</td>\n",
       "      <td>1</td>\n",
       "    </tr>\n",
       "  </tbody>\n",
       "</table>\n",
       "</div>"
      ],
      "text/plain": [
       "   id keyword location                                               text  \\\n",
       "0   1     NaN      NaN  Our Deeds are the Reason of this #earthquake M...   \n",
       "1   4     NaN      NaN             Forest fire near La Ronge Sask. Canada   \n",
       "2   5     NaN      NaN  All residents asked to 'shelter in place' are ...   \n",
       "3   6     NaN      NaN  13,000 people receive #wildfires evacuation or...   \n",
       "4   7     NaN      NaN  Just got sent this photo from Ruby #Alaska as ...   \n",
       "\n",
       "   target  \n",
       "0       1  \n",
       "1       1  \n",
       "2       1  \n",
       "3       1  \n",
       "4       1  "
      ]
     },
     "execution_count": 4,
     "metadata": {},
     "output_type": "execute_result"
    }
   ],
   "source": [
    "df.head()"
   ]
  },
  {
   "cell_type": "markdown",
   "id": "58d1f838",
   "metadata": {
    "papermill": {
     "duration": 0.008565,
     "end_time": "2024-06-17T02:45:17.512733",
     "exception": false,
     "start_time": "2024-06-17T02:45:17.504168",
     "status": "completed"
    },
    "tags": []
   },
   "source": [
    "The first step is getting rid of duplicated tweets, the keyword and location features are not guranteed in every tweet, so they were removed to reduce noise."
   ]
  },
  {
   "cell_type": "code",
   "execution_count": 5,
   "id": "ca1cff21",
   "metadata": {
    "execution": {
     "iopub.execute_input": "2024-06-17T02:45:17.536919Z",
     "iopub.status.busy": "2024-06-17T02:45:17.536487Z",
     "iopub.status.idle": "2024-06-17T02:45:17.554689Z",
     "shell.execute_reply": "2024-06-17T02:45:17.553398Z"
    },
    "papermill": {
     "duration": 0.032216,
     "end_time": "2024-06-17T02:45:17.557718",
     "exception": false,
     "start_time": "2024-06-17T02:45:17.525502",
     "status": "completed"
    },
    "tags": []
   },
   "outputs": [],
   "source": [
    "df = df.drop_duplicates(\"text\")\n",
    "df = df.drop([\"keyword\",\"location\"], axis=1)"
   ]
  },
  {
   "cell_type": "markdown",
   "id": "437d4b98",
   "metadata": {
    "papermill": {
     "duration": 0.008231,
     "end_time": "2024-06-17T02:45:17.574653",
     "exception": false,
     "start_time": "2024-06-17T02:45:17.566422",
     "status": "completed"
    },
    "tags": []
   },
   "source": [
    "The next step is to generate training and validation splits to explore the data further."
   ]
  },
  {
   "cell_type": "code",
   "execution_count": 6,
   "id": "7ad06288",
   "metadata": {
    "execution": {
     "iopub.execute_input": "2024-06-17T02:45:17.593165Z",
     "iopub.status.busy": "2024-06-17T02:45:17.592725Z",
     "iopub.status.idle": "2024-06-17T02:45:17.601859Z",
     "shell.execute_reply": "2024-06-17T02:45:17.600825Z"
    },
    "papermill": {
     "duration": 0.021934,
     "end_time": "2024-06-17T02:45:17.605071",
     "exception": false,
     "start_time": "2024-06-17T02:45:17.583137",
     "status": "completed"
    },
    "tags": []
   },
   "outputs": [],
   "source": [
    "train_df, val_df = train_test_split(df, test_size=.2, random_state=28)"
   ]
  },
  {
   "cell_type": "code",
   "execution_count": 7,
   "id": "e3bb56cc",
   "metadata": {
    "execution": {
     "iopub.execute_input": "2024-06-17T02:45:17.630054Z",
     "iopub.status.busy": "2024-06-17T02:45:17.628916Z",
     "iopub.status.idle": "2024-06-17T02:45:17.641540Z",
     "shell.execute_reply": "2024-06-17T02:45:17.640498Z"
    },
    "papermill": {
     "duration": 0.02915,
     "end_time": "2024-06-17T02:45:17.644378",
     "exception": false,
     "start_time": "2024-06-17T02:45:17.615228",
     "status": "completed"
    },
    "tags": []
   },
   "outputs": [
    {
     "data": {
      "text/plain": [
       "target\n",
       "0    3449\n",
       "1    2553\n",
       "Name: count, dtype: int64"
      ]
     },
     "execution_count": 7,
     "metadata": {},
     "output_type": "execute_result"
    }
   ],
   "source": [
    "train_df.target.value_counts()"
   ]
  },
  {
   "cell_type": "markdown",
   "id": "ea2f450c",
   "metadata": {
    "papermill": {
     "duration": 0.011275,
     "end_time": "2024-06-17T02:45:17.668551",
     "exception": false,
     "start_time": "2024-06-17T02:45:17.657276",
     "status": "completed"
    },
    "tags": []
   },
   "source": [
    "Tweets have all types of special characters and symbols that don't necessary add to the discussion around emergency and disasters, so they were also removed."
   ]
  },
  {
   "cell_type": "code",
   "execution_count": 8,
   "id": "a8ee4693",
   "metadata": {
    "execution": {
     "iopub.execute_input": "2024-06-17T02:45:17.693022Z",
     "iopub.status.busy": "2024-06-17T02:45:17.692552Z",
     "iopub.status.idle": "2024-06-17T02:45:17.727811Z",
     "shell.execute_reply": "2024-06-17T02:45:17.726563Z"
    },
    "papermill": {
     "duration": 0.051884,
     "end_time": "2024-06-17T02:45:17.730650",
     "exception": false,
     "start_time": "2024-06-17T02:45:17.678766",
     "status": "completed"
    },
    "tags": []
   },
   "outputs": [],
   "source": [
    "def clean_text(text):\n",
    "    # Remove non-letter characters and convert to lowercase\n",
    "    text = re.sub(r\"[^a-zA-Z0-9\\s]\", \"\", text)\n",
    "    text = text.lower() # turn into lowercase\n",
    "    \n",
    "    return text\n",
    "train_df[\"text\"] = train_df[\"text\"].apply(clean_text)"
   ]
  },
  {
   "cell_type": "markdown",
   "id": "186ddcb7",
   "metadata": {
    "papermill": {
     "duration": 0.008302,
     "end_time": "2024-06-17T02:45:17.747662",
     "exception": false,
     "start_time": "2024-06-17T02:45:17.739360",
     "status": "completed"
    },
    "tags": []
   },
   "source": [
    "To solve the word embedding processing, the TF-IDF method is implemented:\n",
    "\n",
    "TF calculates the term frequency of each word in each article. \n",
    "\n",
    "IDF calculates the frequency of each word across all the articles. \n",
    "\n",
    "TF-IDF together calculate the importance of each word and assign weights to each word according to the frequency. \n",
    "\n",
    "The output after applying the TF-IDF function is a matrix with documents and words, the values are the assigned weights."
   ]
  },
  {
   "cell_type": "code",
   "execution_count": 9,
   "id": "761170a7",
   "metadata": {
    "execution": {
     "iopub.execute_input": "2024-06-17T02:45:17.766775Z",
     "iopub.status.busy": "2024-06-17T02:45:17.766407Z",
     "iopub.status.idle": "2024-06-17T02:45:17.967158Z",
     "shell.execute_reply": "2024-06-17T02:45:17.966015Z"
    },
    "papermill": {
     "duration": 0.213274,
     "end_time": "2024-06-17T02:45:17.969663",
     "exception": false,
     "start_time": "2024-06-17T02:45:17.756389",
     "status": "completed"
    },
    "tags": []
   },
   "outputs": [],
   "source": [
    "tfidf_vectorizer = TfidfVectorizer(max_features=30, stop_words=\"english\")\n",
    "X = tfidf_vectorizer.fit_transform(df['text']).toarray()\n",
    "feature_names = tfidf_vectorizer.get_feature_names_out()\n",
    "train_tf_idf = pd.DataFrame(X, columns=feature_names)\n",
    "train_tf_idf[\"target\"] = train_df[\"target\"]"
   ]
  },
  {
   "cell_type": "code",
   "execution_count": 10,
   "id": "7e0dc7c1",
   "metadata": {
    "execution": {
     "iopub.execute_input": "2024-06-17T02:45:17.988434Z",
     "iopub.status.busy": "2024-06-17T02:45:17.988068Z",
     "iopub.status.idle": "2024-06-17T02:45:17.999131Z",
     "shell.execute_reply": "2024-06-17T02:45:17.998139Z"
    },
    "papermill": {
     "duration": 0.023329,
     "end_time": "2024-06-17T02:45:18.001597",
     "exception": false,
     "start_time": "2024-06-17T02:45:17.978268",
     "status": "completed"
    },
    "tags": []
   },
   "outputs": [],
   "source": [
    "tf_idf_mean = train_tf_idf.groupby(\"target\").agg(\"mean\").reset_index().T.drop([\"target\", \"http\", \"https\"], axis=0)\n",
    "tf_idf_mean.columns = [\"No Disaster\", \"Disaster\"]"
   ]
  },
  {
   "cell_type": "code",
   "execution_count": 11,
   "id": "daef4eb6",
   "metadata": {
    "execution": {
     "iopub.execute_input": "2024-06-17T02:45:18.021270Z",
     "iopub.status.busy": "2024-06-17T02:45:18.020213Z",
     "iopub.status.idle": "2024-06-17T02:45:18.976066Z",
     "shell.execute_reply": "2024-06-17T02:45:18.974923Z"
    },
    "papermill": {
     "duration": 0.968197,
     "end_time": "2024-06-17T02:45:18.978462",
     "exception": false,
     "start_time": "2024-06-17T02:45:18.010265",
     "status": "completed"
    },
    "tags": []
   },
   "outputs": [
    {
     "data": {
      "image/png": "[encoded data removed]",
      "text/plain": [
       "<Figure size 1000x600 with 1 Axes>"
      ]
     },
     "metadata": {},
     "output_type": "display_data"
    }
   ],
   "source": [
    "# Set the aesthetic style of the plots\n",
    "sns.set_style(\"whitegrid\")\n",
    "\n",
    "# Plotting\n",
    "fig, ax = plt.subplots(figsize=(10, 6))\n",
    "terms = tf_idf_mean.index\n",
    "y = np.arange(len(terms))  # the label locations\n",
    "\n",
    "# Create custom colors\n",
    "color_for_0 = '#3498db'  # Blue color\n",
    "color_for_1 = '#e74c3c'  # Red color\n",
    "\n",
    "# Creating the horizontal bar chart\n",
    "sns.barplot(data=tf_idf_mean, x='No Disaster', y=terms, color=color_for_0, label='No Disaster', ax=ax)\n",
    "sns.barplot(data=tf_idf_mean, x='Disaster', y=terms, color=color_for_1, alpha=.8, label='Disaster', ax=ax)\n",
    "\n",
    "# Adding labels, title and custom y-axis tick labels, etc.\n",
    "ax.set_xlabel('Mean TF-IDF Value')\n",
    "ax.set_ylabel('Terms')\n",
    "ax.set_title('Mean TF-IDF Values by Term and Target')\n",
    "ax.legend(title='Target')\n",
    "\n",
    "# Show the plot\n",
    "plt.show()"
   ]
  },
  {
   "cell_type": "markdown",
   "id": "ee935cd6",
   "metadata": {
    "papermill": {
     "duration": 0.009207,
     "end_time": "2024-06-17T02:45:18.997249",
     "exception": false,
     "start_time": "2024-06-17T02:45:18.988042",
     "status": "completed"
    },
    "tags": []
   },
   "source": [
    "Going through the process of using a tf-idf word embedding, made me realize that LSTM won't benefit from it because tf-idf offers a whole corpus analysis and loses word sequence context. This is why a tokenizer will be used instead to take advantange of the sequential order of text in the traning of the model.\n",
    "\n",
    "The tokenizer is fitted with the training text and it is replacing each word with its term frequency ranking instead. See below."
   ]
  },
  {
   "cell_type": "code",
   "execution_count": 12,
   "id": "9278602c",
   "metadata": {
    "execution": {
     "iopub.execute_input": "2024-06-17T02:45:19.017733Z",
     "iopub.status.busy": "2024-06-17T02:45:19.017354Z",
     "iopub.status.idle": "2024-06-17T02:45:19.321196Z",
     "shell.execute_reply": "2024-06-17T02:45:19.319519Z"
    },
    "papermill": {
     "duration": 0.317321,
     "end_time": "2024-06-17T02:45:19.324022",
     "exception": false,
     "start_time": "2024-06-17T02:45:19.006701",
     "status": "completed"
    },
    "tags": []
   },
   "outputs": [
    {
     "name": "stdout",
     "output_type": "stream",
     "text": [
      "Ranking: Word\n",
      "1: the\n",
      "2: a\n",
      "3: in\n",
      "4: to\n",
      "5: of\n",
      "6: and\n",
      "7: i\n",
      "8: is\n",
      "9: for\n",
      "10: on\n",
      "11: you\n"
     ]
    }
   ],
   "source": [
    "# Tokenization\n",
    "tokenizer = Tokenizer(num_words=None)\n",
    "tokenizer.fit_on_texts(train_df.text)\n",
    "sequences = tokenizer.texts_to_sequences(train_df.text)\n",
    "\n",
    "index_word = {i: w for w, i in tokenizer.word_index.items()}\n",
    "# Detokenize sequences and count word frequencies\n",
    "detokenized_texts = []\n",
    "for sequence in sequences:\n",
    "    words = [index_word.get(idx, '') for idx in sequence]\n",
    "    detokenized_texts.extend(words)\n",
    "\n",
    "\n",
    "word_counts = Counter(detokenized_texts)\n",
    "print(\"Ranking: Word\")\n",
    "for index, (key, value) in enumerate(index_word.items()):\n",
    "    if index < 11:\n",
    "        print(f\"{key}: {value}\")"
   ]
  },
  {
   "cell_type": "code",
   "execution_count": 13,
   "id": "f493acc4",
   "metadata": {
    "execution": {
     "iopub.execute_input": "2024-06-17T02:45:19.346760Z",
     "iopub.status.busy": "2024-06-17T02:45:19.346380Z",
     "iopub.status.idle": "2024-06-17T02:45:19.353081Z",
     "shell.execute_reply": "2024-06-17T02:45:19.351893Z"
    },
    "papermill": {
     "duration": 0.021237,
     "end_time": "2024-06-17T02:45:19.355554",
     "exception": false,
     "start_time": "2024-06-17T02:45:19.334317",
     "status": "completed"
    },
    "tags": []
   },
   "outputs": [
    {
     "name": "stdout",
     "output_type": "stream",
     "text": [
      "For sequence:\n",
      "[104, 61, 7, 57, 52, 3, 201, 333, 9, 550, 56, 64, 6, 1, 287, 82, 120, 5745]\n",
      "\n",
      "Translates into:\n",
      "['love', 'how', 'i', 'dont', 'get', 'in', 'any', 'trouble', 'for', 'having', 'people', 'over', 'and', 'the', 'house', 'still', 'being', 'trashed']\n"
     ]
    }
   ],
   "source": [
    "print(\"For sequence:\")\n",
    "print(sequences[0])\n",
    "seq_example = []\n",
    "for rank in sequences[0]:\n",
    "    seq_example.append(index_word[rank])\n",
    "print(\"\\nTranslates into:\")\n",
    "print(seq_example)"
   ]
  },
  {
   "cell_type": "markdown",
   "id": "6002761c",
   "metadata": {
    "papermill": {
     "duration": 0.00929,
     "end_time": "2024-06-17T02:45:19.374789",
     "exception": false,
     "start_time": "2024-06-17T02:45:19.365499",
     "status": "completed"
    },
    "tags": []
   },
   "source": [
    "The last transformation needed is padding. Since each of the tweets have different length, shorter tweets need to be padded with 0's, and longer tweets might need to be trimmed to hit the right balance of information passed to the model."
   ]
  },
  {
   "cell_type": "code",
   "execution_count": 14,
   "id": "71d95f73",
   "metadata": {
    "execution": {
     "iopub.execute_input": "2024-06-17T02:45:19.395847Z",
     "iopub.status.busy": "2024-06-17T02:45:19.395432Z",
     "iopub.status.idle": "2024-06-17T02:45:19.723415Z",
     "shell.execute_reply": "2024-06-17T02:45:19.722063Z"
    },
    "papermill": {
     "duration": 0.341421,
     "end_time": "2024-06-17T02:45:19.725961",
     "exception": false,
     "start_time": "2024-06-17T02:45:19.384540",
     "status": "completed"
    },
    "tags": []
   },
   "outputs": [
    {
     "data": {
      "image/png": "[encoded data removed]",
      "text/plain": [
       "<Figure size 640x480 with 1 Axes>"
      ]
     },
     "metadata": {},
     "output_type": "display_data"
    }
   ],
   "source": [
    "tweet_len = []\n",
    "for seq in sequences:\n",
    "    tweet_len.append(len(seq))\n",
    "plt.hist(tweet_len)\n",
    "plt.title(\"Tweet word count distribution\")\n",
    "plt.xlabel(\"Word per tweet\")\n",
    "plt.show()"
   ]
  },
  {
   "cell_type": "markdown",
   "id": "fa9d8420",
   "metadata": {
    "papermill": {
     "duration": 0.009605,
     "end_time": "2024-06-17T02:45:19.745765",
     "exception": false,
     "start_time": "2024-06-17T02:45:19.736160",
     "status": "completed"
    },
    "tags": []
   },
   "source": [
    "According to the distribution, 20 seems like a good treshold."
   ]
  },
  {
   "cell_type": "code",
   "execution_count": 15,
   "id": "c5df50b2",
   "metadata": {
    "execution": {
     "iopub.execute_input": "2024-06-17T02:45:19.767572Z",
     "iopub.status.busy": "2024-06-17T02:45:19.767207Z",
     "iopub.status.idle": "2024-06-17T02:45:19.886943Z",
     "shell.execute_reply": "2024-06-17T02:45:19.885874Z"
    },
    "papermill": {
     "duration": 0.133512,
     "end_time": "2024-06-17T02:45:19.889454",
     "exception": false,
     "start_time": "2024-06-17T02:45:19.755942",
     "status": "completed"
    },
    "tags": []
   },
   "outputs": [],
   "source": [
    "sequences = tokenizer.texts_to_sequences(train_df.text)\n",
    "padded_sequences = pad_sequences(sequences, maxlen=20)"
   ]
  },
  {
   "cell_type": "markdown",
   "id": "2e731524",
   "metadata": {
    "papermill": {
     "duration": 0.009651,
     "end_time": "2024-06-17T02:45:19.909105",
     "exception": false,
     "start_time": "2024-06-17T02:45:19.899454",
     "status": "completed"
    },
    "tags": []
   },
   "source": [
    "To wrap up the data cleaning process, a corpus of text is cleaned by removing special characters and symbols, a tokenizer is fit to that text. That tokenizer is used to turn texts into sequences and then those sequences are padded with 0's to match a fixed input size for the model."
   ]
  },
  {
   "cell_type": "code",
   "execution_count": 16,
   "id": "7aaedc72",
   "metadata": {
    "execution": {
     "iopub.execute_input": "2024-06-17T02:45:19.931172Z",
     "iopub.status.busy": "2024-06-17T02:45:19.930747Z",
     "iopub.status.idle": "2024-06-17T02:45:19.936986Z",
     "shell.execute_reply": "2024-06-17T02:45:19.935577Z"
    },
    "papermill": {
     "duration": 0.01976,
     "end_time": "2024-06-17T02:45:19.939160",
     "exception": false,
     "start_time": "2024-06-17T02:45:19.919400",
     "status": "completed"
    },
    "tags": []
   },
   "outputs": [],
   "source": [
    "def pre_process_data(train_text, test_text):\n",
    "    \n",
    "    train_text = train_text.apply(clean_text)\n",
    "    test_text = test_text.apply(clean_text)\n",
    "    tokenizer.fit_on_texts(train_text)\n",
    "    sequences = tokenizer.texts_to_sequences(test_text)\n",
    "    padded_sequences = pad_sequences(sequences, maxlen=20)\n",
    "    return padded_sequences, len(tokenizer.index_word)+1"
   ]
  },
  {
   "cell_type": "markdown",
   "id": "51a26217",
   "metadata": {
    "papermill": {
     "duration": 0.009639,
     "end_time": "2024-06-17T02:45:19.958861",
     "exception": false,
     "start_time": "2024-06-17T02:45:19.949222",
     "status": "completed"
    },
    "tags": []
   },
   "source": [
    "## Model Architecture\n",
    "\n",
    "Before fitting any model, a custom f1_score metric is created to train the model optimizing for the kaggle's competition metric."
   ]
  },
  {
   "cell_type": "code",
   "execution_count": 17,
   "id": "40c6a1dc",
   "metadata": {
    "execution": {
     "iopub.execute_input": "2024-06-17T02:45:19.980495Z",
     "iopub.status.busy": "2024-06-17T02:45:19.980136Z",
     "iopub.status.idle": "2024-06-17T02:45:19.987584Z",
     "shell.execute_reply": "2024-06-17T02:45:19.986507Z"
    },
    "papermill": {
     "duration": 0.020819,
     "end_time": "2024-06-17T02:45:19.989814",
     "exception": false,
     "start_time": "2024-06-17T02:45:19.968995",
     "status": "completed"
    },
    "tags": []
   },
   "outputs": [],
   "source": [
    "def f1_score(y_true, y_pred):\n",
    "    y_true = K.cast(y_true, 'float32')  \n",
    "    y_pred_binary = K.round(y_pred)\n",
    "\n",
    "    tp = K.sum(y_true * y_pred_binary, axis=0)\n",
    "    fp = K.sum((1 - y_true) * y_pred_binary, axis=0)\n",
    "    fn = K.sum(y_true * (1 - y_pred_binary), axis=0)\n",
    "\n",
    "    precision = tp / (tp + fp + K.epsilon())\n",
    "    recall = tp / (tp + fn + K.epsilon())\n",
    "\n",
    "    f1 = 2 * (precision * recall) / (precision + recall + K.epsilon())\n",
    "    f1 = tf.where(tf.math.is_nan(f1), tf.zeros_like(f1), f1) \n",
    "    return K.mean(f1)  "
   ]
  },
  {
   "cell_type": "markdown",
   "id": "66f7bc50",
   "metadata": {
    "papermill": {
     "duration": 0.009687,
     "end_time": "2024-06-17T02:45:20.009597",
     "exception": false,
     "start_time": "2024-06-17T02:45:19.999910",
     "status": "completed"
    },
    "tags": []
   },
   "source": [
    "The first model is a sequential LSTM with an adam optimizer."
   ]
  },
  {
   "cell_type": "code",
   "execution_count": 18,
   "id": "6abfe20c",
   "metadata": {
    "execution": {
     "iopub.execute_input": "2024-06-17T02:45:20.031451Z",
     "iopub.status.busy": "2024-06-17T02:45:20.031018Z",
     "iopub.status.idle": "2024-06-17T02:45:47.291491Z",
     "shell.execute_reply": "2024-06-17T02:45:47.290279Z"
    },
    "papermill": {
     "duration": 27.27433,
     "end_time": "2024-06-17T02:45:47.294105",
     "exception": false,
     "start_time": "2024-06-17T02:45:20.019775",
     "status": "completed"
    },
    "tags": []
   },
   "outputs": [
    {
     "name": "stderr",
     "output_type": "stream",
     "text": [
      "/opt/conda/lib/python3.10/site-packages/keras/src/layers/core/embedding.py:90: UserWarning: Argument `input_length` is deprecated. Just remove it.\n",
      "  warnings.warn(\n"
     ]
    },
    {
     "name": "stdout",
     "output_type": "stream",
     "text": [
      "Epoch 1/10\n",
      "\u001b[1m188/188\u001b[0m \u001b[32m━━━━━━━━━━━━━━━━━━━━\u001b[0m\u001b[37m\u001b[0m \u001b[1m5s\u001b[0m 14ms/step - f1_score: 0.2029 - loss: 0.6342 - val_f1_score: 0.7272 - val_loss: 0.4636\n",
      "Epoch 2/10\n",
      "\u001b[1m188/188\u001b[0m \u001b[32m━━━━━━━━━━━━━━━━━━━━\u001b[0m\u001b[37m\u001b[0m \u001b[1m2s\u001b[0m 13ms/step - f1_score: 0.8433 - loss: 0.3145 - val_f1_score: 0.7096 - val_loss: 0.4679\n",
      "Epoch 3/10\n",
      "\u001b[1m188/188\u001b[0m \u001b[32m━━━━━━━━━━━━━━━━━━━━\u001b[0m\u001b[37m\u001b[0m \u001b[1m2s\u001b[0m 12ms/step - f1_score: 0.9265 - loss: 0.1651 - val_f1_score: 0.7273 - val_loss: 0.5650\n",
      "Epoch 4/10\n",
      "\u001b[1m188/188\u001b[0m \u001b[32m━━━━━━━━━━━━━━━━━━━━\u001b[0m\u001b[37m\u001b[0m \u001b[1m2s\u001b[0m 12ms/step - f1_score: 0.9714 - loss: 0.0720 - val_f1_score: 0.7147 - val_loss: 0.7613\n",
      "Epoch 5/10\n",
      "\u001b[1m188/188\u001b[0m \u001b[32m━━━━━━━━━━━━━━━━━━━━\u001b[0m\u001b[37m\u001b[0m \u001b[1m2s\u001b[0m 12ms/step - f1_score: 0.9880 - loss: 0.0350 - val_f1_score: 0.7050 - val_loss: 0.9119\n",
      "Epoch 6/10\n",
      "\u001b[1m188/188\u001b[0m \u001b[32m━━━━━━━━━━━━━━━━━━━━\u001b[0m\u001b[37m\u001b[0m \u001b[1m2s\u001b[0m 12ms/step - f1_score: 0.9935 - loss: 0.0252 - val_f1_score: 0.7048 - val_loss: 1.0057\n",
      "Epoch 7/10\n",
      "\u001b[1m188/188\u001b[0m \u001b[32m━━━━━━━━━━━━━━━━━━━━\u001b[0m\u001b[37m\u001b[0m \u001b[1m2s\u001b[0m 12ms/step - f1_score: 0.9934 - loss: 0.0153 - val_f1_score: 0.7126 - val_loss: 1.1708\n",
      "Epoch 8/10\n",
      "\u001b[1m188/188\u001b[0m \u001b[32m━━━━━━━━━━━━━━━━━━━━\u001b[0m\u001b[37m\u001b[0m \u001b[1m2s\u001b[0m 12ms/step - f1_score: 0.9976 - loss: 0.0082 - val_f1_score: 0.6965 - val_loss: 1.3054\n",
      "Epoch 9/10\n",
      "\u001b[1m188/188\u001b[0m \u001b[32m━━━━━━━━━━━━━━━━━━━━\u001b[0m\u001b[37m\u001b[0m \u001b[1m2s\u001b[0m 12ms/step - f1_score: 0.9984 - loss: 0.0045 - val_f1_score: 0.7008 - val_loss: 0.8260\n",
      "Epoch 10/10\n",
      "\u001b[1m188/188\u001b[0m \u001b[32m━━━━━━━━━━━━━━━━━━━━\u001b[0m\u001b[37m\u001b[0m \u001b[1m3s\u001b[0m 13ms/step - f1_score: 0.9961 - loss: 0.0152 - val_f1_score: 0.7060 - val_loss: 1.2147\n"
     ]
    }
   ],
   "source": [
    "x_train,input_dim = pre_process_data(train_df.text, train_df.text)\n",
    "# Building the model\n",
    "model = Sequential()\n",
    "model.add(Embedding(input_dim=input_dim, output_dim=32, input_length=20))\n",
    "model.add(LSTM(50))\n",
    "model.add(Dense(1, activation='sigmoid'))\n",
    "\n",
    "# Compiling the model with custom F1 score metric\n",
    "model.compile(loss='binary_crossentropy', optimizer='adam', metrics=[f1_score])\n",
    "\n",
    "# Train the model\n",
    "x_val, input_dim = pre_process_data(train_df.text, val_df.text)\n",
    "history_sequential = model.fit(x_train, train_df.target, validation_data = (x_val,val_df.target), epochs=10)"
   ]
  },
  {
   "cell_type": "code",
   "execution_count": 19,
   "id": "910302b8",
   "metadata": {
    "execution": {
     "iopub.execute_input": "2024-06-17T02:45:47.371351Z",
     "iopub.status.busy": "2024-06-17T02:45:47.370470Z",
     "iopub.status.idle": "2024-06-17T02:45:47.967826Z",
     "shell.execute_reply": "2024-06-17T02:45:47.966635Z"
    },
    "papermill": {
     "duration": 0.639651,
     "end_time": "2024-06-17T02:45:47.970173",
     "exception": false,
     "start_time": "2024-06-17T02:45:47.330522",
     "status": "completed"
    },
    "tags": []
   },
   "outputs": [
    {
     "data": {
      "image/png": "[encoded data removed]",
      "text/plain": [
       "<Figure size 1200x400 with 2 Axes>"
      ]
     },
     "metadata": {},
     "output_type": "display_data"
    }
   ],
   "source": [
    "def model_plot(history):\n",
    "    # Plot training & validation loss values\n",
    "    plt.figure(figsize=(12, 4))\n",
    "    plt.subplot(1, 2, 1)\n",
    "    plt.plot(history.history['loss'])\n",
    "    plt.plot(history.history['val_loss'])\n",
    "    plt.title('Model loss')\n",
    "    plt.ylabel('Loss')\n",
    "    plt.xlabel('Epoch')\n",
    "    plt.legend(['Train', 'Validation'], loc='upper left')\n",
    "\n",
    "    # Plot training & validation F1 score values\n",
    "    plt.subplot(1, 2, 2)\n",
    "    plt.plot(history.history['f1_score'])\n",
    "    plt.plot(history.history['val_f1_score'])\n",
    "    plt.title('Model F1 Score')\n",
    "    plt.ylabel('F1 Score')\n",
    "    plt.xlabel('Epoch')\n",
    "    plt.legend(['Train', 'Validation'], loc='upper left')\n",
    "\n",
    "    plt.show()\n",
    "model_plot(history_sequential)"
   ]
  },
  {
   "cell_type": "markdown",
   "id": "a0363516",
   "metadata": {
    "papermill": {
     "duration": 0.036394,
     "end_time": "2024-06-17T02:45:48.044131",
     "exception": false,
     "start_time": "2024-06-17T02:45:48.007737",
     "status": "completed"
    },
    "tags": []
   },
   "source": [
    "The second model is a LSTM with bideractional layer. There is not a significant improvement from the sequential model, so the first model is prefered to maintain a more simple solution."
   ]
  },
  {
   "cell_type": "code",
   "execution_count": 20,
   "id": "c06877a3",
   "metadata": {
    "execution": {
     "iopub.execute_input": "2024-06-17T02:45:48.120914Z",
     "iopub.status.busy": "2024-06-17T02:45:48.120484Z",
     "iopub.status.idle": "2024-06-17T02:46:24.092981Z",
     "shell.execute_reply": "2024-06-17T02:46:24.091898Z"
    },
    "papermill": {
     "duration": 36.013575,
     "end_time": "2024-06-17T02:46:24.095434",
     "exception": false,
     "start_time": "2024-06-17T02:45:48.081859",
     "status": "completed"
    },
    "tags": []
   },
   "outputs": [
    {
     "name": "stdout",
     "output_type": "stream",
     "text": [
      "Epoch 1/10\n",
      "\u001b[1m188/188\u001b[0m \u001b[32m━━━━━━━━━━━━━━━━━━━━\u001b[0m\u001b[37m\u001b[0m \u001b[1m7s\u001b[0m 17ms/step - f1_score: 0.2591 - loss: 0.6240 - val_f1_score: 0.6798 - val_loss: 0.4748\n",
      "Epoch 2/10\n",
      "\u001b[1m188/188\u001b[0m \u001b[32m━━━━━━━━━━━━━━━━━━━━\u001b[0m\u001b[37m\u001b[0m \u001b[1m3s\u001b[0m 15ms/step - f1_score: 0.8599 - loss: 0.2957 - val_f1_score: 0.7367 - val_loss: 0.4996\n",
      "Epoch 3/10\n",
      "\u001b[1m188/188\u001b[0m \u001b[32m━━━━━━━━━━━━━━━━━━━━\u001b[0m\u001b[37m\u001b[0m \u001b[1m5s\u001b[0m 14ms/step - f1_score: 0.9484 - loss: 0.1233 - val_f1_score: 0.7085 - val_loss: 0.7043\n",
      "Epoch 4/10\n",
      "\u001b[1m188/188\u001b[0m \u001b[32m━━━━━━━━━━━━━━━━━━━━\u001b[0m\u001b[37m\u001b[0m \u001b[1m3s\u001b[0m 14ms/step - f1_score: 0.9779 - loss: 0.0582 - val_f1_score: 0.6900 - val_loss: 0.7554\n",
      "Epoch 5/10\n",
      "\u001b[1m188/188\u001b[0m \u001b[32m━━━━━━━━━━━━━━━━━━━━\u001b[0m\u001b[37m\u001b[0m \u001b[1m3s\u001b[0m 15ms/step - f1_score: 0.9861 - loss: 0.0373 - val_f1_score: 0.7024 - val_loss: 0.8843\n",
      "Epoch 6/10\n",
      "\u001b[1m188/188\u001b[0m \u001b[32m━━━━━━━━━━━━━━━━━━━━\u001b[0m\u001b[37m\u001b[0m \u001b[1m3s\u001b[0m 14ms/step - f1_score: 0.9938 - loss: 0.0191 - val_f1_score: 0.6951 - val_loss: 1.0429\n",
      "Epoch 7/10\n",
      "\u001b[1m188/188\u001b[0m \u001b[32m━━━━━━━━━━━━━━━━━━━━\u001b[0m\u001b[37m\u001b[0m \u001b[1m3s\u001b[0m 14ms/step - f1_score: 0.9956 - loss: 0.0124 - val_f1_score: 0.6797 - val_loss: 1.2436\n",
      "Epoch 8/10\n",
      "\u001b[1m188/188\u001b[0m \u001b[32m━━━━━━━━━━━━━━━━━━━━\u001b[0m\u001b[37m\u001b[0m \u001b[1m3s\u001b[0m 17ms/step - f1_score: 0.9958 - loss: 0.0121 - val_f1_score: 0.6925 - val_loss: 1.2128\n",
      "Epoch 9/10\n",
      "\u001b[1m188/188\u001b[0m \u001b[32m━━━━━━━━━━━━━━━━━━━━\u001b[0m\u001b[37m\u001b[0m \u001b[1m3s\u001b[0m 15ms/step - f1_score: 0.9946 - loss: 0.0151 - val_f1_score: 0.6994 - val_loss: 1.1390\n",
      "Epoch 10/10\n",
      "\u001b[1m188/188\u001b[0m \u001b[32m━━━━━━━━━━━━━━━━━━━━\u001b[0m\u001b[37m\u001b[0m \u001b[1m3s\u001b[0m 14ms/step - f1_score: 0.9956 - loss: 0.0131 - val_f1_score: 0.6914 - val_loss: 1.2308\n"
     ]
    },
    {
     "data": {
      "image/png": "[encoded data removed]",
      "text/plain": [
       "<Figure size 1200x400 with 2 Axes>"
      ]
     },
     "metadata": {},
     "output_type": "display_data"
    }
   ],
   "source": [
    "x_train,input_dim = pre_process_data(train_df.text, train_df.text)\n",
    "# Building the model\n",
    "model = Sequential()\n",
    "model.add(Embedding(input_dim=input_dim, output_dim=32, input_length=20))\n",
    "model.add(Bidirectional(LSTM(50)))\n",
    "model.add(Dense(1, activation='sigmoid'))\n",
    "\n",
    "# Compiling the model with custom F1 score metric\n",
    "model.compile(loss='binary_crossentropy', optimizer='adam', metrics=[f1_score])\n",
    "\n",
    "# Train the model\n",
    "x_val, input_dim = pre_process_data(train_df.text, val_df.text)\n",
    "history_bidirectional = model.fit(x_train, train_df.target, validation_data = (x_val,val_df.target), epochs=10)\n",
    "model_plot(history_bidirectional)"
   ]
  },
  {
   "cell_type": "markdown",
   "id": "2e532c24",
   "metadata": {
    "papermill": {
     "duration": 0.069885,
     "end_time": "2024-06-17T02:46:24.235329",
     "exception": false,
     "start_time": "2024-06-17T02:46:24.165444",
     "status": "completed"
    },
    "tags": []
   },
   "source": [
    "## Results and Analysis"
   ]
  },
  {
   "cell_type": "code",
   "execution_count": 21,
   "id": "652796e4",
   "metadata": {
    "execution": {
     "iopub.execute_input": "2024-06-17T02:46:24.378374Z",
     "iopub.status.busy": "2024-06-17T02:46:24.377950Z",
     "iopub.status.idle": "2024-06-17T02:46:58.476946Z",
     "shell.execute_reply": "2024-06-17T02:46:58.475660Z"
    },
    "papermill": {
     "duration": 34.174238,
     "end_time": "2024-06-17T02:46:58.479864",
     "exception": false,
     "start_time": "2024-06-17T02:46:24.305626",
     "status": "completed"
    },
    "tags": []
   },
   "outputs": [
    {
     "name": "stdout",
     "output_type": "stream",
     "text": [
      "Epoch 1/10\n",
      "\u001b[1m235/235\u001b[0m \u001b[32m━━━━━━━━━━━━━━━━━━━━\u001b[0m\u001b[37m\u001b[0m \u001b[1m5s\u001b[0m 13ms/step - f1_score: 0.3006 - loss: 0.6087\n",
      "Epoch 2/10\n",
      "\u001b[1m235/235\u001b[0m \u001b[32m━━━━━━━━━━━━━━━━━━━━\u001b[0m\u001b[37m\u001b[0m \u001b[1m3s\u001b[0m 12ms/step - f1_score: 0.8508 - loss: 0.2921\n",
      "Epoch 3/10\n",
      "\u001b[1m235/235\u001b[0m \u001b[32m━━━━━━━━━━━━━━━━━━━━\u001b[0m\u001b[37m\u001b[0m \u001b[1m3s\u001b[0m 12ms/step - f1_score: 0.9361 - loss: 0.1480\n",
      "Epoch 4/10\n",
      "\u001b[1m235/235\u001b[0m \u001b[32m━━━━━━━━━━━━━━━━━━━━\u001b[0m\u001b[37m\u001b[0m \u001b[1m3s\u001b[0m 12ms/step - f1_score: 0.9670 - loss: 0.0763\n",
      "Epoch 5/10\n",
      "\u001b[1m235/235\u001b[0m \u001b[32m━━━━━━━━━━━━━━━━━━━━\u001b[0m\u001b[37m\u001b[0m \u001b[1m3s\u001b[0m 12ms/step - f1_score: 0.9833 - loss: 0.0404\n",
      "Epoch 6/10\n",
      "\u001b[1m235/235\u001b[0m \u001b[32m━━━━━━━━━━━━━━━━━━━━\u001b[0m\u001b[37m\u001b[0m \u001b[1m3s\u001b[0m 12ms/step - f1_score: 0.9928 - loss: 0.0212\n",
      "Epoch 7/10\n",
      "\u001b[1m235/235\u001b[0m \u001b[32m━━━━━━━━━━━━━━━━━━━━\u001b[0m\u001b[37m\u001b[0m \u001b[1m3s\u001b[0m 12ms/step - f1_score: 0.9944 - loss: 0.0152\n",
      "Epoch 8/10\n",
      "\u001b[1m235/235\u001b[0m \u001b[32m━━━━━━━━━━━━━━━━━━━━\u001b[0m\u001b[37m\u001b[0m \u001b[1m3s\u001b[0m 13ms/step - f1_score: 0.9970 - loss: 0.0082\n",
      "Epoch 9/10\n",
      "\u001b[1m235/235\u001b[0m \u001b[32m━━━━━━━━━━━━━━━━━━━━\u001b[0m\u001b[37m\u001b[0m \u001b[1m3s\u001b[0m 12ms/step - f1_score: 0.9964 - loss: 0.0095\n",
      "Epoch 10/10\n",
      "\u001b[1m235/235\u001b[0m \u001b[32m━━━━━━━━━━━━━━━━━━━━\u001b[0m\u001b[37m\u001b[0m \u001b[1m3s\u001b[0m 13ms/step - f1_score: 0.9961 - loss: 0.0090\n"
     ]
    }
   ],
   "source": [
    "x_train,input_dim = pre_process_data(df.text, df.text)\n",
    "# Building the model\n",
    "model = Sequential()\n",
    "model.add(Embedding(input_dim=input_dim, output_dim=32, input_length=20))\n",
    "model.add(LSTM(50))\n",
    "model.add(Dense(1, activation='sigmoid'))\n",
    "\n",
    "# Compiling the model with custom F1 score metric\n",
    "model.compile(loss='binary_crossentropy', optimizer='adam', metrics=[f1_score])\n",
    "\n",
    "# Train the model\n",
    "history = model.fit(x_train, df.target, epochs=10)"
   ]
  },
  {
   "cell_type": "code",
   "execution_count": 22,
   "id": "1167bb92",
   "metadata": {
    "execution": {
     "iopub.execute_input": "2024-06-17T02:46:58.695677Z",
     "iopub.status.busy": "2024-06-17T02:46:58.695301Z",
     "iopub.status.idle": "2024-06-17T02:46:59.910679Z",
     "shell.execute_reply": "2024-06-17T02:46:59.909427Z"
    },
    "papermill": {
     "duration": 1.326217,
     "end_time": "2024-06-17T02:46:59.913532",
     "exception": false,
     "start_time": "2024-06-17T02:46:58.587315",
     "status": "completed"
    },
    "tags": []
   },
   "outputs": [
    {
     "name": "stdout",
     "output_type": "stream",
     "text": [
      "\u001b[1m102/102\u001b[0m \u001b[32m━━━━━━━━━━━━━━━━━━━━\u001b[0m\u001b[37m\u001b[0m \u001b[1m1s\u001b[0m 6ms/step\n"
     ]
    }
   ],
   "source": [
    "x_test,input_dim = pre_process_data(df.text, test_df.text)\n",
    "preds = model.predict(x_test)"
   ]
  },
  {
   "cell_type": "code",
   "execution_count": 23,
   "id": "9c810534",
   "metadata": {
    "execution": {
     "iopub.execute_input": "2024-06-17T02:47:00.131061Z",
     "iopub.status.busy": "2024-06-17T02:47:00.129962Z",
     "iopub.status.idle": "2024-06-17T02:47:00.157884Z",
     "shell.execute_reply": "2024-06-17T02:47:00.156623Z"
    },
    "papermill": {
     "duration": 0.141479,
     "end_time": "2024-06-17T02:47:00.160532",
     "exception": false,
     "start_time": "2024-06-17T02:47:00.019053",
     "status": "completed"
    },
    "tags": []
   },
   "outputs": [
    {
     "data": {
      "text/html": [
       "<div>\n",
       "<style scoped>\n",
       "    .dataframe tbody tr th:only-of-type {\n",
       "        vertical-align: middle;\n",
       "    }\n",
       "\n",
       "    .dataframe tbody tr th {\n",
       "        vertical-align: top;\n",
       "    }\n",
       "\n",
       "    .dataframe thead th {\n",
       "        text-align: right;\n",
       "    }\n",
       "</style>\n",
       "<table border=\"1\" class=\"dataframe\">\n",
       "  <thead>\n",
       "    <tr style=\"text-align: right;\">\n",
       "      <th></th>\n",
       "      <th>id</th>\n",
       "      <th>target</th>\n",
       "    </tr>\n",
       "  </thead>\n",
       "  <tbody>\n",
       "    <tr>\n",
       "      <th>0</th>\n",
       "      <td>0</td>\n",
       "      <td>0</td>\n",
       "    </tr>\n",
       "    <tr>\n",
       "      <th>1</th>\n",
       "      <td>2</td>\n",
       "      <td>1</td>\n",
       "    </tr>\n",
       "    <tr>\n",
       "      <th>2</th>\n",
       "      <td>3</td>\n",
       "      <td>1</td>\n",
       "    </tr>\n",
       "    <tr>\n",
       "      <th>3</th>\n",
       "      <td>9</td>\n",
       "      <td>0</td>\n",
       "    </tr>\n",
       "    <tr>\n",
       "      <th>4</th>\n",
       "      <td>11</td>\n",
       "      <td>1</td>\n",
       "    </tr>\n",
       "  </tbody>\n",
       "</table>\n",
       "</div>"
      ],
      "text/plain": [
       "   id  target\n",
       "0   0       0\n",
       "1   2       1\n",
       "2   3       1\n",
       "3   9       0\n",
       "4  11       1"
      ]
     },
     "execution_count": 23,
     "metadata": {},
     "output_type": "execute_result"
    }
   ],
   "source": [
    "subm = pd.read_csv(\"../input/nlp-getting-started/sample_submission.csv\")\n",
    "subm[\"target\"] = [1 if i > 0.5 else 0 for i in preds]\n",
    "subm.head()"
   ]
  },
  {
   "cell_type": "code",
   "execution_count": 24,
   "id": "6bb299cc",
   "metadata": {
    "execution": {
     "iopub.execute_input": "2024-06-17T02:47:00.377229Z",
     "iopub.status.busy": "2024-06-17T02:47:00.376861Z",
     "iopub.status.idle": "2024-06-17T02:47:00.387776Z",
     "shell.execute_reply": "2024-06-17T02:47:00.386587Z"
    },
    "papermill": {
     "duration": 0.12169,
     "end_time": "2024-06-17T02:47:00.390410",
     "exception": false,
     "start_time": "2024-06-17T02:47:00.268720",
     "status": "completed"
    },
    "tags": []
   },
   "outputs": [],
   "source": [
    "subm.to_csv(\"Submission_Basic.csv\", index=False)"
   ]
  },
  {
   "cell_type": "markdown",
   "id": "d1b85891",
   "metadata": {
    "papermill": {
     "duration": 0.105803,
     "end_time": "2024-06-17T02:47:00.603643",
     "exception": false,
     "start_time": "2024-06-17T02:47:00.497840",
     "status": "completed"
    },
    "tags": []
   },
   "source": [
    "## Conclusion"
   ]
  }
 ],
 "metadata": {
  "kaggle": {
   "accelerator": "none",
   "dataSources": [
    {
     "databundleVersionId": 869809,
     "sourceId": 17777,
     "sourceType": "competition"
    }
   ],
   "dockerImageVersionId": 30732,
   "isGpuEnabled": false,
   "isInternetEnabled": true,
   "language": "python",
   "sourceType": "notebook"
  },
  "kernelspec": {
   "display_name": "Python 3",
   "language": "python",
   "name": "python3"
  },
  "language_info": {
   "codemirror_mode": {
    "name": "ipython",
    "version": 3
   },
   "file_extension": ".py",
   "mimetype": "text/x-python",
   "name": "python",
   "nbconvert_exporter": "python",
   "pygments_lexer": "ipython3",
   "version": "3.10.13"
  },
  "papermill": {
   "default_parameters": {},
   "duration": 125.178155,
   "end_time": "2024-06-17T02:47:03.423397",
   "environment_variables": {},
   "exception": null,
   "input_path": "__notebook__.ipynb",
   "output_path": "__notebook__.ipynb",
   "parameters": {},
   "start_time": "2024-06-17T02:44:58.245242",
   "version": "2.5.0"
  }
 },
 "nbformat": 4,
 "nbformat_minor": 5
}
